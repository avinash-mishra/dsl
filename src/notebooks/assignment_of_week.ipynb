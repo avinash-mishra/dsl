{
 "cells": [
  {
   "cell_type": "markdown",
   "metadata": {},
   "source": [
    "# Inheritance concept"
   ]
  },
  {
   "cell_type": "code",
   "execution_count": 7,
   "metadata": {},
   "outputs": [],
   "source": [
    "# create a class with name parent\n",
    "class Parent:\n",
    "    parent_val = \"Parent\"\n",
    "\n",
    "    def parent_function(self):\n",
    "        print(\"ParentMethod:\" + self.parent_val)\n",
    "\n",
    "# create a class with name child and make it as child of Parent class -> child(Parent)\n",
    "# This is also called as inheritance\n",
    "class Child(Parent):\n",
    "    child_val = \"Child\"\n",
    "\n",
    "    def child_function(self):\n",
    "        print(\"ChildMethod:\" + self.child_val)\n",
    "        super().parent_function()  # using super keywor you can call parent method/variables from child class. \n"
   ]
  },
  {
   "cell_type": "code",
   "execution_count": 8,
   "metadata": {},
   "outputs": [
    {
     "name": "stdout",
     "output_type": "stream",
     "text": [
      "Parent\n",
      "Child\n",
      "ParentMethod:Parent\n",
      "ChildMethod:Child\n"
     ]
    }
   ],
   "source": [
    "# create object of child class\n",
    "child = Child()\n",
    "\n",
    "# Since child is inherited from parent, child can call parent class variables and methods\n",
    "print(child.parent_val) # ⇒ Parent\n",
    "\n",
    "# call child class variable\n",
    "print(child.child_val) # ⇒ Child\n",
    "\n",
    "# class parent class function\n",
    "child.parent_function() # ⇒ ParentMethod:Parent\n",
    "\n",
    "# call child class function\n",
    "child.child_function() # ⇒ ChildMethod:Child"
   ]
  },
  {
   "cell_type": "markdown",
   "metadata": {},
   "source": [
    "# Code Study, read below code and try to understand it. After understanding please run and show some outputs. "
   ]
  },
  {
   "cell_type": "code",
   "execution_count": 9,
   "metadata": {},
   "outputs": [],
   "source": [
    "class Pet(object):\n",
    "    \n",
    "    def __init__(self, name, species):\n",
    "        self.name = name\n",
    "        self.species = species\n",
    "\n",
    "    def getName(self):\n",
    "        return self.name\n",
    "\n",
    "    def getSpecies(self):\n",
    "        return self.species\n",
    "\n",
    "    def __str__(self):\n",
    "        return \"%s is a %s\" % (self.name, self.species)\n",
    "\n",
    "class Dog(Pet):\n",
    "    \n",
    "    def __init__(self, name, chases_cats):\n",
    "        Pet.__init__(self, name, \"Dog\")\n",
    "        self.chases_cats = chases_cats\n",
    "\n",
    "    def chasesCats(self):\n",
    "        return self.chases_cats\n",
    "\n",
    "class Cat(Pet):\n",
    "    def __init__(self, name, hates_dogs):\n",
    "        Pet.__init__(self, name, \"Cat\")\n",
    "        self.hates_dogs = hates_dogs\n",
    "\n",
    "    def hatesDogs(self):\n",
    "        return self.hates_dogs"
   ]
  },
  {
   "cell_type": "markdown",
   "metadata": {},
   "source": [
    "# Assignment 1"
   ]
  },
  {
   "cell_type": "code",
   "execution_count": 2,
   "metadata": {},
   "outputs": [],
   "source": [
    "### Create a class with name Fibonnaci and create a function inside class with name generate_fibonaci.\n",
    "### generate_fibonaci will take a number as variable and generate fibonacci series\n",
    "### create object of class and call generate_fibonaci \n",
    "\n",
    "Example: generate_fibonaci(5)  -> 0, 1, 1, 2, 3\n",
    "generate_fibonaci(10) -> 0, 1, 1, 2, 3, 5, 8, 13, 21, 34"
   ]
  },
  {
   "cell_type": "markdown",
   "metadata": {},
   "source": [
    "# Assignment 2"
   ]
  },
  {
   "cell_type": "code",
   "execution_count": null,
   "metadata": {},
   "outputs": [],
   "source": [
    "## create a class with name Palindrome and inside that class create two method\n",
    "## one will check palindrome_number or not\n",
    "## another one will accept input from user. \n",
    "\n",
    "class Palindrome():\n",
    "    def is_palindrome():\n",
    "\n",
    "    def get_number_input():\n",
    "\n",
    "Palindrom numbers are number that is same from both sides like 121 from either side it is 121.\n",
    "12321 is another example. "
   ]
  }
 ],
 "metadata": {
  "interpreter": {
   "hash": "bb85d06755579c0fd4178ddd203f9e67130f365f813539afd75163767db8156b"
  },
  "kernelspec": {
   "display_name": "Python 3",
   "language": "python",
   "name": "python3"
  },
  "language_info": {
   "codemirror_mode": {
    "name": "ipython",
    "version": 3
   },
   "file_extension": ".py",
   "mimetype": "text/x-python",
   "name": "python",
   "nbconvert_exporter": "python",
   "pygments_lexer": "ipython3",
   "version": "3.8.8"
  }
 },
 "nbformat": 4,
 "nbformat_minor": 2
}
