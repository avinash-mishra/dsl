{
 "cells": [
  {
   "cell_type": "markdown",
   "source": [
    "# Inheritance concept"
   ],
   "metadata": {}
  },
  {
   "cell_type": "code",
   "execution_count": 7,
   "source": [
    "# create a class with name parent\r\n",
    "class Parent:\r\n",
    "    parent_val = \"Parent\"\r\n",
    "\r\n",
    "    def parent_function(self):\r\n",
    "        print(\"ParentMethod:\" + self.parent_val)\r\n",
    "\r\n",
    "# create a class with name child and make it as child of Parent class -> child(Parent)\r\n",
    "# This is also called as inheritance\r\n",
    "class Child(Parent):\r\n",
    "    child_val = \"Child\"\r\n",
    "\r\n",
    "    def child_function(self):\r\n",
    "        print(\"ChildMethod:\" + self.child_val)\r\n",
    "        super().parent_function()  # using super keywor you can call parent method/variables from child class. \r\n"
   ],
   "outputs": [],
   "metadata": {}
  },
  {
   "cell_type": "code",
   "execution_count": 8,
   "source": [
    "# create object of child class\r\n",
    "child = Child()\r\n",
    "\r\n",
    "# Since child is inherited from parent, child can call parent class variables and methods\r\n",
    "print(child.parent_val) # ⇒ Parent\r\n",
    "\r\n",
    "# call child class variable\r\n",
    "print(child.child_val) # ⇒ Child\r\n",
    "\r\n",
    "# class parent class function\r\n",
    "child.parent_function() # ⇒ ParentMethod:Parent\r\n",
    "\r\n",
    "# call child class function\r\n",
    "child.child_function() # ⇒ ChildMethod:Child"
   ],
   "outputs": [
    {
     "output_type": "stream",
     "name": "stdout",
     "text": [
      "Parent\n",
      "Child\n",
      "ParentMethod:Parent\n",
      "ChildMethod:Child\n"
     ]
    }
   ],
   "metadata": {}
  },
  {
   "cell_type": "markdown",
   "source": [
    "# Code Study, read below code and try to understand it. After understanding please run and show some outputs. "
   ],
   "metadata": {}
  },
  {
   "cell_type": "code",
   "execution_count": 9,
   "source": [
    "class Pet(object):\r\n",
    "    \r\n",
    "    def __init__(self, name, species):\r\n",
    "        self.name = name\r\n",
    "        self.species = species\r\n",
    "\r\n",
    "    def getName(self):\r\n",
    "        return self.name\r\n",
    "\r\n",
    "    def getSpecies(self):\r\n",
    "        return self.species\r\n",
    "\r\n",
    "    def __str__(self):\r\n",
    "        return \"%s is a %s\" % (self.name, self.species)\r\n",
    "\r\n",
    "class Dog(Pet):\r\n",
    "    \r\n",
    "    def __init__(self, name, chases_cats):\r\n",
    "        Pet.__init__(self, name, \"Dog\")\r\n",
    "        self.chases_cats = chases_cats\r\n",
    "\r\n",
    "    def chasesCats(self):\r\n",
    "        return self.chases_cats\r\n",
    "\r\n",
    "class Cat(Pet):\r\n",
    "    def __init__(self, name, hates_dogs):\r\n",
    "        Pet.__init__(self, name, \"Cat\")\r\n",
    "        self.hates_dogs = hates_dogs\r\n",
    "\r\n",
    "    def hatesDogs(self):\r\n",
    "        return self.hates_dogs"
   ],
   "outputs": [],
   "metadata": {}
  },
  {
   "cell_type": "markdown",
   "source": [
    "# Assignment 1"
   ],
   "metadata": {}
  },
  {
   "cell_type": "markdown",
   "source": [
    "### Create a class with name Fibonnaci and create a function inside class with name generate_fibonaci.\r\n",
    "### generate_fibonaci will take a number as variable and generate fibonacci series\r\n",
    "### create object of class and call generate_fibonaci \r\n",
    "\r\n",
    "Example: generate_fibonaci(5)  -> 0, 1, 1, 2, 3\r\n",
    "generate_fibonaci(10) -> 0, 1, 1, 2, 3, 5, 8, 13, 21, 34"
   ],
   "metadata": {}
  },
  {
   "cell_type": "markdown",
   "source": [
    "# Assignment 2"
   ],
   "metadata": {}
  },
  {
   "cell_type": "markdown",
   "source": [
    "## create a class with name Palindrome and inside that class create two method\r\n",
    "## one will check palindrome_number or not\r\n",
    "## another one will accept input from user. \r\n",
    "\r\n",
    "class Palindrome():\r\n",
    "    def is_palindrome():\r\n",
    "\r\n",
    "    def get_number_input():\r\n",
    "\r\n",
    "Palindrom numbers are number that is same from both sides like 121 from either side it is 121.\r\n",
    "12321 is another example. "
   ],
   "metadata": {}
  }
 ],
 "metadata": {
  "orig_nbformat": 4,
  "language_info": {
   "name": "python",
   "version": "3.8.3",
   "mimetype": "text/x-python",
   "codemirror_mode": {
    "name": "ipython",
    "version": 3
   },
   "pygments_lexer": "ipython3",
   "nbconvert_exporter": "python",
   "file_extension": ".py"
  },
  "kernelspec": {
   "name": "python3",
   "display_name": "Python 3.8.3 64-bit ('base': conda)"
  },
  "interpreter": {
   "hash": "bb85d06755579c0fd4178ddd203f9e67130f365f813539afd75163767db8156b"
  }
 },
 "nbformat": 4,
 "nbformat_minor": 2
}