{
 "cells": [
  {
   "cell_type": "code",
   "execution_count": 1,
   "id": "e76e145e",
   "metadata": {},
   "outputs": [
    {
     "data": {
      "text/plain": [
       "'\\nscrape: fetching the data from web pages without letting the web page owner knowing it. \\ncrawling: \\n'"
      ]
     },
     "execution_count": 1,
     "metadata": {},
     "output_type": "execute_result"
    }
   ],
   "source": [
    "\"\"\"\n",
    "scrape: fetching the data from web pages without letting the web page owner knowing it. \n",
    "crawling: \n",
    "\"\"\"\n",
    "\n",
    "# setup mechanism: to stop scraping\n",
    "# 500 queries may be ok -> after that you can't"
   ]
  },
  {
   "cell_type": "code",
   "execution_count": 2,
   "id": "a45cf67a",
   "metadata": {},
   "outputs": [],
   "source": [
    "# HTML: hypertext markup language\n",
    "# <head>\n",
    "# Banner, and some decorations\n",
    "# </head>\n",
    "\n",
    "# <body>\n",
    "# design of web page, product information\n",
    "# </body>"
   ]
  },
  {
   "cell_type": "code",
   "execution_count": 3,
   "id": "f413ea33",
   "metadata": {},
   "outputs": [],
   "source": [
    "# https://www.amazon.in/   -> URL - uniform resource locator\n",
    "\n",
    "# beauty_product_list = [\"lipstick\", \"foundation\", \"xyz\"]\n",
    "# first_page_crawl = condition true\n",
    "# https://www.amazon.in/s?k=beauty_product_list[2]&i=beauty&ref=nb_sb_noss_1"
   ]
  },
  {
   "cell_type": "code",
   "execution_count": 4,
   "id": "39b124be",
   "metadata": {},
   "outputs": [],
   "source": [
    "# !pip install bs4\n",
    "# !pip install beautifulsoup4\n",
    "# !pip uninstall bs4\n",
    "# easy\n",
    "# lightweight "
   ]
  },
  {
   "cell_type": "code",
   "execution_count": 5,
   "id": "2bf8b831",
   "metadata": {},
   "outputs": [],
   "source": [
    "\n",
    "# shift + tab -> short description/ short window\n",
    "# shift + tab tab  => full description."
   ]
  },
  {
   "cell_type": "code",
   "execution_count": 6,
   "id": "4bc42e35",
   "metadata": {},
   "outputs": [],
   "source": [
    "import requests\n",
    "from bs4 import BeautifulSoup"
   ]
  },
  {
   "cell_type": "code",
   "execution_count": 7,
   "id": "63f51ea5",
   "metadata": {},
   "outputs": [],
   "source": [
    "URL = \"https://realpython.github.io/fake-jobs/\"\n",
    "\n",
    "page = requests.get(URL)\n",
    "\n",
    "# print(page.text)\n",
    "\n",
    "soup = BeautifulSoup(page.content, \"html.parser\")"
   ]
  },
  {
   "cell_type": "code",
   "execution_count": 8,
   "id": "172c3e3f",
   "metadata": {
    "scrolled": true
   },
   "outputs": [
    {
     "data": {
      "text/plain": [
       "<title>Fake Python</title>"
      ]
     },
     "execution_count": 8,
     "metadata": {},
     "output_type": "execute_result"
    }
   ],
   "source": [
    "results = soup.find(\"title\")\n",
    "results"
   ]
  },
  {
   "cell_type": "code",
   "execution_count": 9,
   "id": "09013ba4",
   "metadata": {},
   "outputs": [
    {
     "data": {
      "text/plain": [
       "'Fake Python'"
      ]
     },
     "execution_count": 9,
     "metadata": {},
     "output_type": "execute_result"
    }
   ],
   "source": [
    "results.text"
   ]
  },
  {
   "cell_type": "code",
   "execution_count": 10,
   "id": "ada9aa4b",
   "metadata": {},
   "outputs": [
    {
     "data": {
      "text/plain": [
       "'<title>\\n Fake Python\\n</title>\\n'"
      ]
     },
     "execution_count": 10,
     "metadata": {},
     "output_type": "execute_result"
    }
   ],
   "source": [
    "results.prettify()"
   ]
  },
  {
   "cell_type": "code",
   "execution_count": 11,
   "id": "db4744a1",
   "metadata": {},
   "outputs": [],
   "source": [
    "results = soup.find(id=\"ResultsContainer\")\n",
    "\n",
    "# print(results.prettify())"
   ]
  },
  {
   "cell_type": "code",
   "execution_count": 12,
   "id": "5ca70f4c",
   "metadata": {},
   "outputs": [
    {
     "name": "stdout",
     "output_type": "stream",
     "text": [
      "<div class=\"media-content\">\n",
      "<h2 class=\"title is-5\">Senior Python Developer</h2>\n",
      "<h3 class=\"subtitle is-6 company\">Payne, Roberts and Davis</h3>\n",
      "</div>\n"
     ]
    }
   ],
   "source": [
    "# job_elements = results.find_all(\"div\", class_=\"card-content\")\n",
    "job = results.find(\"div\", class_=\"media-content\")\n",
    "print(job)\n"
   ]
  },
  {
   "cell_type": "code",
   "execution_count": 13,
   "id": "e209e0cf",
   "metadata": {},
   "outputs": [
    {
     "name": "stdout",
     "output_type": "stream",
     "text": [
      "Senior Python Developer\n"
     ]
    }
   ],
   "source": [
    "job = results.find(\"h2\")\n",
    "print(job.text)"
   ]
  },
  {
   "cell_type": "code",
   "execution_count": null,
   "id": "a2f15016",
   "metadata": {},
   "outputs": [],
   "source": [
    "# fake python website, print 4 things in reverse order"
   ]
  },
  {
   "cell_type": "markdown",
   "id": "2c975e4c",
   "metadata": {},
   "source": [
    "# Homework \n",
    "\n",
    "## part 1"
   ]
  },
  {
   "cell_type": "code",
   "execution_count": null,
   "id": "1f8efa1f",
   "metadata": {},
   "outputs": [],
   "source": [
    "1> Group and count total jobs based on location last 2 charaters like AA,AP,AE\n",
    "\n",
    "Output should be like\n",
    "AA - 32 jobs \n",
    "[\"Senior Python Developer\", \"Energy engineer\", ............]\n",
    "\n",
    "AP - 33 jobs  \n",
    "[\"Fitness centre manager\", \"Medical technical officer\", ............]\n",
    "\n",
    "AE - 37 jobs\n",
    "[\"Physiological scientist\", \"Textile designer\", ............]\n",
    "\n"
   ]
  },
  {
   "cell_type": "markdown",
   "id": "d6be6308",
   "metadata": {},
   "source": [
    "## Hint 1\n"
   ]
  },
  {
   "cell_type": "code",
   "execution_count": null,
   "id": "6e7e8757",
   "metadata": {},
   "outputs": [],
   "source": [
    "Store all results into list of lists.  [[],[],[],[]]\n",
    "inside every inner list there should be cell entry(job name, location, date) from fake job site https://realpython.github.io/fake-jobs/\n",
    "Now loop over to outer loop and find last two charater of location which is AA, AP or AE and keep counting it until loop\n",
    "ends. and store result into dictionary. \n",
    "\n",
    "print the dictionary. \n",
    "\n"
   ]
  },
  {
   "cell_type": "markdown",
   "id": "4c88b669",
   "metadata": {},
   "source": [
    "## part 2"
   ]
  },
  {
   "cell_type": "code",
   "execution_count": null,
   "id": "61a9f986",
   "metadata": {},
   "outputs": [],
   "source": [
    "Print jobs in reverse order"
   ]
  },
  {
   "cell_type": "markdown",
   "id": "2a1ce0e2",
   "metadata": {},
   "source": [
    "## hint 2"
   ]
  },
  {
   "cell_type": "code",
   "execution_count": null,
   "id": "8d003e66",
   "metadata": {},
   "outputs": [],
   "source": [
    "above list of list simply print in reverse order. I already gave this assignment before. "
   ]
  },
  {
   "cell_type": "markdown",
   "id": "b9bd279a",
   "metadata": {},
   "source": [
    "## part 3"
   ]
  },
  {
   "cell_type": "code",
   "execution_count": null,
   "id": "38733824",
   "metadata": {},
   "outputs": [],
   "source": [
    "Generate dummy dates between march 01 to July 31\n",
    "and count jobs by month\n",
    "\n",
    "output\n",
    "\n",
    "March - 32 jobs opened\n",
    "April - 12 jobs opened\n",
    "May - 21 jobs opened\n",
    "June - 15 jobs opened\n",
    "July - 8 jobs opened"
   ]
  },
  {
   "cell_type": "markdown",
   "id": "7b71e676",
   "metadata": {},
   "source": [
    "## hint 3"
   ]
  },
  {
   "cell_type": "markdown",
   "id": "31692e5c",
   "metadata": {},
   "source": [
    "In above list of list assign random date while iterating over outer loop. \n",
    "Use below function to generate random range. If you call the last line for all entry of outer loop as mentioned above\n",
    "you'll get random range for all the jobs in between march and july. \n"
   ]
  },
  {
   "cell_type": "code",
   "execution_count": 16,
   "id": "d406818f",
   "metadata": {},
   "outputs": [
    {
     "name": "stdout",
     "output_type": "stream",
     "text": [
      "2021-07-13\n"
     ]
    }
   ],
   "source": [
    "import random\n",
    "import time\n",
    "    \n",
    "def str_time_prop(start, end, time_format, prop):\n",
    "    \"\"\"Get a time at a proportion of a range of two formatted times.\n",
    "\n",
    "    start and end should be strings specifying times formatted in the\n",
    "    given format (strftime-style), giving an interval [start, end].\n",
    "    prop specifies how a proportion of the interval to be taken after\n",
    "    start.  The returned time will be in the specified format.\n",
    "    \"\"\"\n",
    "\n",
    "    stime = time.mktime(time.strptime(start, time_format))\n",
    "    etime = time.mktime(time.strptime(end, time_format))\n",
    "\n",
    "    ptime = stime + prop * (etime - stime)\n",
    "\n",
    "    return time.strftime(time_format, time.localtime(ptime))\n",
    "\n",
    "\n",
    "def random_date(start, end, prop):\n",
    "    return str_time_prop(start, end, '%Y-%m-%d', prop)\n",
    "    \n",
    "print(random_date(\"2021-03-01\", \"2021-07-31\", random.random()))"
   ]
  },
  {
   "cell_type": "code",
   "execution_count": null,
   "id": "5d7a4e26",
   "metadata": {},
   "outputs": [],
   "source": []
  }
 ],
 "metadata": {
  "kernelspec": {
   "display_name": "Python 3",
   "language": "python",
   "name": "python3"
  },
  "language_info": {
   "codemirror_mode": {
    "name": "ipython",
    "version": 3
   },
   "file_extension": ".py",
   "mimetype": "text/x-python",
   "name": "python",
   "nbconvert_exporter": "python",
   "pygments_lexer": "ipython3",
   "version": "3.8.8"
  }
 },
 "nbformat": 4,
 "nbformat_minor": 5
}
