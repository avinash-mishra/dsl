{
 "cells": [
  {
   "cell_type": "code",
   "execution_count": 1,
   "id": "e76e145e",
   "metadata": {},
   "outputs": [
    {
     "data": {
      "text/plain": [
       "'\\nscrape: fetching the data from web pages without letting the web page owner knowing it. \\ncrawling: \\n'"
      ]
     },
     "execution_count": 1,
     "metadata": {},
     "output_type": "execute_result"
    }
   ],
   "source": [
    "\"\"\"\n",
    "scrape: fetching the data from web pages without letting the web page owner knowing it. \n",
    "crawling: \n",
    "\"\"\"\n",
    "\n",
    "# setup mechanism: to stop scraping\n",
    "# 500 queries may be ok -> after that you can't"
   ]
  },
  {
   "cell_type": "code",
   "execution_count": 2,
   "id": "a45cf67a",
   "metadata": {},
   "outputs": [],
   "source": [
    "# HTML: hypertext markup language\n",
    "# <head>\n",
    "# Banner, and some decorations\n",
    "# </head>\n",
    "\n",
    "# <body>\n",
    "# design of web page, product information\n",
    "# </body>"
   ]
  },
  {
   "cell_type": "code",
   "execution_count": 3,
   "id": "f413ea33",
   "metadata": {},
   "outputs": [],
   "source": [
    "# https://www.amazon.in/   -> URL - uniform resource locator\n",
    "\n",
    "# beauty_product_list = [\"lipstick\", \"foundation\", \"xyz\"]\n",
    "# first_page_crawl = condition true\n",
    "# https://www.amazon.in/s?k=beauty_product_list[2]&i=beauty&ref=nb_sb_noss_1"
   ]
  },
  {
   "cell_type": "code",
   "execution_count": 4,
   "id": "39b124be",
   "metadata": {},
   "outputs": [],
   "source": [
    "# !pip install bs4\n",
    "# !pip install beautifulsoup4\n",
    "# !pip uninstall bs4\n",
    "# easy\n",
    "# lightweight "
   ]
  },
  {
   "cell_type": "code",
   "execution_count": 5,
   "id": "2bf8b831",
   "metadata": {},
   "outputs": [],
   "source": [
    "\n",
    "# shift + tab -> short description/ short window\n",
    "# shift + tab tab  => full description."
   ]
  },
  {
   "cell_type": "code",
   "execution_count": 6,
   "id": "4bc42e35",
   "metadata": {},
   "outputs": [],
   "source": [
    "import requests\n",
    "from bs4 import BeautifulSoup"
   ]
  },
  {
   "cell_type": "code",
   "execution_count": 7,
   "id": "63f51ea5",
   "metadata": {},
   "outputs": [],
   "source": [
    "URL = \"https://realpython.github.io/fake-jobs/\"\n",
    "\n",
    "page = requests.get(URL)\n",
    "\n",
    "# print(page.text)\n",
    "\n",
    "soup = BeautifulSoup(page.content, \"html.parser\")"
   ]
  },
  {
   "cell_type": "code",
   "execution_count": 8,
   "id": "172c3e3f",
   "metadata": {
    "scrolled": true
   },
   "outputs": [
    {
     "data": {
      "text/plain": [
       "<title>Fake Python</title>"
      ]
     },
     "execution_count": 8,
     "metadata": {},
     "output_type": "execute_result"
    }
   ],
   "source": [
    "results = soup.find(\"title\")\n",
    "results"
   ]
  },
  {
   "cell_type": "code",
   "execution_count": 9,
   "id": "09013ba4",
   "metadata": {},
   "outputs": [
    {
     "data": {
      "text/plain": [
       "'Fake Python'"
      ]
     },
     "execution_count": 9,
     "metadata": {},
     "output_type": "execute_result"
    }
   ],
   "source": [
    "results.text"
   ]
  },
  {
   "cell_type": "code",
   "execution_count": 10,
   "id": "ada9aa4b",
   "metadata": {},
   "outputs": [
    {
     "data": {
      "text/plain": [
       "'<title>\\n Fake Python\\n</title>\\n'"
      ]
     },
     "execution_count": 10,
     "metadata": {},
     "output_type": "execute_result"
    }
   ],
   "source": [
    "results.prettify()"
   ]
  },
  {
   "cell_type": "code",
   "execution_count": 11,
   "id": "db4744a1",
   "metadata": {},
   "outputs": [],
   "source": [
    "results = soup.find(id=\"ResultsContainer\")\n",
    "\n",
    "# print(results.prettify())"
   ]
  },
  {
   "cell_type": "code",
   "execution_count": 12,
   "id": "5ca70f4c",
   "metadata": {},
   "outputs": [
    {
     "name": "stdout",
     "output_type": "stream",
     "text": [
      "<div class=\"media-content\">\n",
      "<h2 class=\"title is-5\">Senior Python Developer</h2>\n",
      "<h3 class=\"subtitle is-6 company\">Payne, Roberts and Davis</h3>\n",
      "</div>\n"
     ]
    }
   ],
   "source": [
    "# job_elements = results.find_all(\"div\", class_=\"card-content\")\n",
    "job = results.find(\"div\", class_=\"media-content\")\n",
    "print(job)\n"
   ]
  },
  {
   "cell_type": "code",
   "execution_count": 13,
   "id": "e209e0cf",
   "metadata": {},
   "outputs": [
    {
     "name": "stdout",
     "output_type": "stream",
     "text": [
      "Senior Python Developer\n"
     ]
    }
   ],
   "source": [
    "job = results.find(\"h2\")\n",
    "print(job.text)"
   ]
  },
  {
   "cell_type": "code",
   "execution_count": null,
   "id": "a2f15016",
   "metadata": {},
   "outputs": [],
   "source": [
    "# fake python website, print 4 things in reverse order"
   ]
  }
 ],
 "metadata": {
  "kernelspec": {
   "display_name": "Python 3",
   "language": "python",
   "name": "python3"
  },
  "language_info": {
   "codemirror_mode": {
    "name": "ipython",
    "version": 3
   },
   "file_extension": ".py",
   "mimetype": "text/x-python",
   "name": "python",
   "nbconvert_exporter": "python",
   "pygments_lexer": "ipython3",
   "version": "3.8.8"
  }
 },
 "nbformat": 4,
 "nbformat_minor": 5
}
