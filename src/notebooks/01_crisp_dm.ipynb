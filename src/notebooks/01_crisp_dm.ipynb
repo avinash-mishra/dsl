{
 "cells": [
  {
   "cell_type": "markdown",
   "metadata": {},
   "source": [
    "# crisp dm\n",
    "\n",
    "cross industry standard process for data mining"
   ]
  },
  {
   "cell_type": "markdown",
   "metadata": {},
   "source": [
    "![](https://www.datascience-pm.com/wp-content/uploads/2021/02/CRISP-DM.png)"
   ]
  },
  {
   "cell_type": "markdown",
   "metadata": {},
   "source": [
    "## business understanding\n",
    "\n",
    "  - know the business need for project\n",
    "  - find relevant stakeholders within/outside organizations [BU/DU]\n",
    "  - understand the outcome of project\n",
    "\n",
    "exmaple: at home delivery project\n",
    "  - problem statement\n",
    "  - ichiba, delivery department, customer support\n",
    "  - business owner, stakeholders\n",
    "  \n"
   ]
  },
  {
   "cell_type": "markdown",
   "metadata": {},
   "source": [
    "## Data understanding\n",
    "\n",
    "  - Identify the datasets\n",
    "  - Check with business owner/stakeholder\n",
    "  - Inter departmental meetings\n",
    "\n",
    "exmaple: at home delivery project\n",
    "  - engauge technical team of associated department\n",
    "  - data dictionary understanding\n",
    "  \n",
    "  \n"
   ]
  },
  {
   "cell_type": "markdown",
   "metadata": {},
   "source": [
    "## Data preparation\n",
    "\n",
    "  - Prepare the needful data\n",
    "  - SQL skills will be needed \n",
    "  - Data can be at different places so access might be needed\n",
    "  - Data joining skills are required\n",
    "  - Covert from raw data to processed Data\n",
    "  - can be of structured or unstructured\n",
    "- Data types\n",
    "  - structure : tablular data, email format (to, subject, body)\n",
    "  - unstructure : email text (text, emoji, html, image)"
   ]
  },
  {
   "cell_type": "markdown",
   "metadata": {},
   "source": [
    "## Modeling\n",
    "\n",
    "  - build AI model   \n",
    "  - Use Machine learning or deep learning algorithms\n",
    "\n",
    "![](https://bit.ly/3iZb291)"
   ]
  },
  {
   "cell_type": "markdown",
   "metadata": {},
   "source": [
    "## Evaluation\n",
    "\n",
    "  - Model metrics\n",
    "  - For classification, for regression\n",
    "  - Basically check whether your model is correct or not"
   ]
  },
  {
   "cell_type": "markdown",
   "metadata": {},
   "source": [
    "## deployement\n",
    "\n",
    "  - Update table like lead generation\n",
    "  - build API\n",
    "  - Build Dashboard (Tableau, powerbi, domo, Dash, Streamlit)\n",
    "  - MLOps (Mlflow, airflow)\n",
    "  - For maintenance repeat the cycle. \n",
    "  "
   ]
  },
  {
   "cell_type": "code",
   "execution_count": null,
   "metadata": {},
   "outputs": [],
   "source": []
  }
 ],
 "metadata": {
  "interpreter": {
   "hash": "7b5611a93b8f2d5e719094b77c0c70650a725e72d24d099332f318c640341dad"
  },
  "kernelspec": {
   "display_name": "Python 3",
   "language": "python",
   "name": "python3"
  },
  "language_info": {
   "codemirror_mode": {
    "name": "ipython",
    "version": 3
   },
   "file_extension": ".py",
   "mimetype": "text/x-python",
   "name": "python",
   "nbconvert_exporter": "python",
   "pygments_lexer": "ipython3",
   "version": "3.8.2"
  }
 },
 "nbformat": 4,
 "nbformat_minor": 4
}
