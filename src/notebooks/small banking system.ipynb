{
 "cells": [
  {
   "cell_type": "code",
   "execution_count": 10,
   "id": "ba4e16d4",
   "metadata": {},
   "outputs": [
    {
     "name": "stdout",
     "output_type": "stream",
     "text": [
      "Please enter name of customer avi\n",
      "Please enter age of customer 33\n",
      "Please enter gender of customer m\n",
      "Deposit amount in Rs. 300\n"
     ]
    }
   ],
   "source": [
    "# enter name of customer\n",
    "name = input(prompt=\"Please enter name of customer \")\n",
    "\n",
    "# enter age of customer\n",
    "age = float(input(prompt=\"Please enter age of customer \"))\n",
    "\n",
    "# enter gender of customer \n",
    "gender = input(prompt=\"Please enter gender of customer \")\n",
    "\n",
    "customer_initial_bal = 100\n",
    "# deposit money\n",
    "deposits = float(input(prompt=\"Deposit amount in Rs. \"))\n",
    "\n",
    "customer_acc_balance = customer_initial_bal + deposits\n"
   ]
  },
  {
   "cell_type": "code",
   "execution_count": 11,
   "id": "c1dd350c",
   "metadata": {},
   "outputs": [
    {
     "name": "stdout",
     "output_type": "stream",
     "text": [
      "avi\n",
      "33.0\n",
      "m\n",
      "300.0\n"
     ]
    }
   ],
   "source": [
    "print(name)\n",
    "print(age)\n",
    "print(gender)\n",
    "print(customer_acc_balance)"
   ]
  },
  {
   "cell_type": "code",
   "execution_count": null,
   "id": "2d895310",
   "metadata": {},
   "outputs": [],
   "source": [
    "\"\"\"\n",
    "1) if customer puts all it's money into Fixed Deposit (FD) account for 3 years with a compund interest rate of 6% \n",
    "per year, then what will be the total amount into customer's account after 3 years. \n",
    "\n",
    "2) After 3 years let's say customer account has x amount of money. If customer wants to deposit exactly same \n",
    "amount after 3 years, then collect that money and tell me how much new total is of initial balance i.e. 100\n",
    "\"\"\""
   ]
  }
 ],
 "metadata": {
  "kernelspec": {
   "display_name": "Python 3",
   "language": "python",
   "name": "python3"
  },
  "language_info": {
   "codemirror_mode": {
    "name": "ipython",
    "version": 3
   },
   "file_extension": ".py",
   "mimetype": "text/x-python",
   "name": "python",
   "nbconvert_exporter": "python",
   "pygments_lexer": "ipython3",
   "version": "3.8.2"
  }
 },
 "nbformat": 4,
 "nbformat_minor": 5
}
