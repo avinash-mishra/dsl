{
 "cells": [
  {
   "cell_type": "markdown",
   "id": "c7cdc744",
   "metadata": {},
   "source": [
    "## Varioud types of databases:\n",
    "\n",
    "    - MySQL\n",
    "    - MariaDB\n",
    "    - BigQuery\n",
    "    - MongoDB\n",
    "    - Cassandra\n",
    "    - Redis\n",
    "    - SqlLIte -> light weight\n",
    "\n",
    "    Our backend DB is in Cassandra"
   ]
  },
  {
   "cell_type": "markdown",
   "id": "2ea4363d",
   "metadata": {},
   "source": [
    "## Whis IDE you have used for SQL ? \n",
    "\n",
    "- DataGrip -> paid\n",
    "- DBeaver -> free\n",
    "\n",
    "IDE -> integrated development environment"
   ]
  },
  {
   "cell_type": "code",
   "execution_count": null,
   "id": "a12ff2aa",
   "metadata": {},
   "outputs": [],
   "source": [
    "# !pip install pysqlite3"
   ]
  },
  {
   "cell_type": "code",
   "execution_count": 1,
   "id": "7c261225",
   "metadata": {},
   "outputs": [],
   "source": [
    "# load external module\n",
    "%load_ext sql"
   ]
  },
  {
   "cell_type": "code",
   "execution_count": 2,
   "id": "598cf4d9",
   "metadata": {},
   "outputs": [],
   "source": [
    "# connection string, \n",
    "# how to connect with your DB using some connection parameter. \n",
    "%sql sqlite://"
   ]
  },
  {
   "cell_type": "markdown",
   "id": "d1246846",
   "metadata": {},
   "source": [
    "# data preparation"
   ]
  },
  {
   "cell_type": "code",
   "execution_count": 3,
   "id": "2317e2a5",
   "metadata": {
    "scrolled": true
   },
   "outputs": [
    {
     "name": "stdout",
     "output_type": "stream",
     "text": [
      " * sqlite://\n",
      "Done.\n",
      "7 rows affected.\n"
     ]
    },
    {
     "data": {
      "text/plain": [
       "[]"
      ]
     },
     "execution_count": 3,
     "metadata": {},
     "output_type": "execute_result"
    }
   ],
   "source": [
    "%%sql\n",
    "CREATE TABLE sales\n",
    "(\n",
    "    sale_k       varchar(20) primary key,\n",
    "    ts        timestamp,\n",
    "    product   integer,\n",
    "    completed boolean,\n",
    "    price     float\n",
    ");\n",
    "INSERT INTO sales\n",
    "VALUES ('sale_1', '2019-11-08 00:00', 0, TRUE, 1.1),\n",
    "       ('sale_2', '2019-11-08 01:00', 0, FALSE, 1.2),\n",
    "       ('sale_3', '2019-11-08 01:00', 0, TRUE, 1.3),\n",
    "       ('sale_4', '2019-11-08 01:00', 1, FALSE, 1.4),\n",
    "       ('sale_5', '2019-11-08 02:00', 1, TRUE, 1.5),\n",
    "        ('sale_6', '2019-11-08 02:00', 1, TRUE, 1.5),\n",
    "       ('sale_7', '2019-11-09 02:00', 1, TRUE, 1.1);\n"
   ]
  },
  {
   "cell_type": "markdown",
   "id": "44c25193",
   "metadata": {},
   "source": [
    "# data extraction"
   ]
  },
  {
   "cell_type": "code",
   "execution_count": 5,
   "id": "eaf5b0bf",
   "metadata": {},
   "outputs": [],
   "source": [
    "# * -> all detail/entries\n",
    "# ; -> semicolon"
   ]
  },
  {
   "cell_type": "code",
   "execution_count": 8,
   "id": "afe9eabd",
   "metadata": {
    "scrolled": true
   },
   "outputs": [
    {
     "name": "stdout",
     "output_type": "stream",
     "text": [
      " * sqlite://\n",
      "Done.\n"
     ]
    },
    {
     "data": {
      "text/html": [
       "<table>\n",
       "    <tr>\n",
       "        <th>sale_k</th>\n",
       "        <th>ts</th>\n",
       "        <th>product</th>\n",
       "        <th>completed</th>\n",
       "        <th>price</th>\n",
       "    </tr>\n",
       "    <tr>\n",
       "        <td>sale_1</td>\n",
       "        <td>2019-11-08 00:00</td>\n",
       "        <td>0</td>\n",
       "        <td>1</td>\n",
       "        <td>1.1</td>\n",
       "    </tr>\n",
       "    <tr>\n",
       "        <td>sale_2</td>\n",
       "        <td>2019-11-08 01:00</td>\n",
       "        <td>0</td>\n",
       "        <td>0</td>\n",
       "        <td>1.2</td>\n",
       "    </tr>\n",
       "    <tr>\n",
       "        <td>sale_3</td>\n",
       "        <td>2019-11-08 01:00</td>\n",
       "        <td>0</td>\n",
       "        <td>1</td>\n",
       "        <td>1.3</td>\n",
       "    </tr>\n",
       "    <tr>\n",
       "        <td>sale_4</td>\n",
       "        <td>2019-11-08 01:00</td>\n",
       "        <td>1</td>\n",
       "        <td>0</td>\n",
       "        <td>1.4</td>\n",
       "    </tr>\n",
       "    <tr>\n",
       "        <td>sale_5</td>\n",
       "        <td>2019-11-08 02:00</td>\n",
       "        <td>1</td>\n",
       "        <td>1</td>\n",
       "        <td>1.5</td>\n",
       "    </tr>\n",
       "    <tr>\n",
       "        <td>sale_6</td>\n",
       "        <td>2019-11-08 02:00</td>\n",
       "        <td>1</td>\n",
       "        <td>1</td>\n",
       "        <td>1.5</td>\n",
       "    </tr>\n",
       "    <tr>\n",
       "        <td>sale_7</td>\n",
       "        <td>2019-11-09 02:00</td>\n",
       "        <td>1</td>\n",
       "        <td>1</td>\n",
       "        <td>1.1</td>\n",
       "    </tr>\n",
       "    <tr>\n",
       "        <td>sale_8</td>\n",
       "        <td>2019-13-09 05:00</td>\n",
       "        <td>2</td>\n",
       "        <td>1</td>\n",
       "        <td>1.3</td>\n",
       "    </tr>\n",
       "</table>"
      ],
      "text/plain": [
       "[('sale_1', '2019-11-08 00:00', 0, 1, 1.1),\n",
       " ('sale_2', '2019-11-08 01:00', 0, 0, 1.2),\n",
       " ('sale_3', '2019-11-08 01:00', 0, 1, 1.3),\n",
       " ('sale_4', '2019-11-08 01:00', 1, 0, 1.4),\n",
       " ('sale_5', '2019-11-08 02:00', 1, 1, 1.5),\n",
       " ('sale_6', '2019-11-08 02:00', 1, 1, 1.5),\n",
       " ('sale_7', '2019-11-09 02:00', 1, 1, 1.1),\n",
       " ('sale_8', '2019-13-09 05:00', 2, 1, 1.3)]"
      ]
     },
     "execution_count": 8,
     "metadata": {},
     "output_type": "execute_result"
    }
   ],
   "source": [
    "%%sql\n",
    "select * from sales;"
   ]
  },
  {
   "cell_type": "code",
   "execution_count": 27,
   "id": "02c71a05",
   "metadata": {},
   "outputs": [
    {
     "name": "stdout",
     "output_type": "stream",
     "text": [
      " * sqlite://\n",
      "Done.\n"
     ]
    },
    {
     "data": {
      "text/html": [
       "<table>\n",
       "    <tr>\n",
       "        <th>product</th>\n",
       "        <th>sum(price)</th>\n",
       "        <th>count(price)</th>\n",
       "        <th>avg(price)</th>\n",
       "    </tr>\n",
       "    <tr>\n",
       "        <td>0</td>\n",
       "        <td>7.8</td>\n",
       "        <td>6</td>\n",
       "        <td>1.3</td>\n",
       "    </tr>\n",
       "</table>"
      ],
      "text/plain": [
       "[(0, 7.8, 6, 1.3)]"
      ]
     },
     "execution_count": 27,
     "metadata": {},
     "output_type": "execute_result"
    }
   ],
   "source": [
    "%%sql\n",
    "select \n",
    "    product,\n",
    "    sum(price),\n",
    "    count(price),\n",
    "    avg(price)\n",
    "    from sales\n",
    "    where completed = 1\n",
    ";"
   ]
  },
  {
   "cell_type": "code",
   "execution_count": 20,
   "id": "7cc01236",
   "metadata": {},
   "outputs": [],
   "source": [
    "# give me sum, count and average of all products\n"
   ]
  },
  {
   "cell_type": "code",
   "execution_count": 25,
   "id": "2041ff8c",
   "metadata": {},
   "outputs": [
    {
     "name": "stdout",
     "output_type": "stream",
     "text": [
      " * sqlite://\n",
      "Done.\n"
     ]
    },
    {
     "data": {
      "text/html": [
       "<table>\n",
       "    <tr>\n",
       "        <th>product</th>\n",
       "        <th>sum_of_price</th>\n",
       "        <th>count_of_price</th>\n",
       "        <th>avg_of_price</th>\n",
       "    </tr>\n",
       "    <tr>\n",
       "        <td>0</td>\n",
       "        <td>3.5999999999999996</td>\n",
       "        <td>3</td>\n",
       "        <td>1.2</td>\n",
       "    </tr>\n",
       "    <tr>\n",
       "        <td>1</td>\n",
       "        <td>5.5</td>\n",
       "        <td>4</td>\n",
       "        <td>1.375</td>\n",
       "    </tr>\n",
       "    <tr>\n",
       "        <td>2</td>\n",
       "        <td>1.3</td>\n",
       "        <td>1</td>\n",
       "        <td>1.3</td>\n",
       "    </tr>\n",
       "</table>"
      ],
      "text/plain": [
       "[(0, 3.5999999999999996, 3, 1.2), (1, 5.5, 4, 1.375), (2, 1.3, 1, 1.3)]"
      ]
     },
     "execution_count": 25,
     "metadata": {},
     "output_type": "execute_result"
    }
   ],
   "source": [
    "%%sql\n",
    "select \n",
    "    product, \n",
    "    sum(price) as sum_of_price, \n",
    "    count(price) as count_of_price,\n",
    "    avg(price) as avg_of_price\n",
    "    from sales\n",
    "    group by product;"
   ]
  },
  {
   "cell_type": "code",
   "execution_count": 24,
   "id": "53352b7e",
   "metadata": {},
   "outputs": [
    {
     "name": "stdout",
     "output_type": "stream",
     "text": [
      " * sqlite://\n",
      "Done.\n"
     ]
    },
    {
     "data": {
      "text/html": [
       "<table>\n",
       "    <tr>\n",
       "        <th>product</th>\n",
       "        <th>sum(price)</th>\n",
       "        <th>count(price)</th>\n",
       "        <th>avg(price)</th>\n",
       "    </tr>\n",
       "    <tr>\n",
       "        <td>0</td>\n",
       "        <td>10.4</td>\n",
       "        <td>8</td>\n",
       "        <td>1.3</td>\n",
       "    </tr>\n",
       "</table>"
      ],
      "text/plain": [
       "[(0, 10.4, 8, 1.3)]"
      ]
     },
     "execution_count": 24,
     "metadata": {},
     "output_type": "execute_result"
    }
   ],
   "source": [
    "%%sql\n",
    "select \n",
    "    product, \n",
    "    sum(price), \n",
    "    count(price),\n",
    "    avg(price)\n",
    "    from sales"
   ]
  },
  {
   "cell_type": "code",
   "execution_count": null,
   "id": "c29efb78",
   "metadata": {},
   "outputs": [],
   "source": [
    "# group by must always have aggregation function. \n",
    "- sum()\n",
    "- count()"
   ]
  },
  {
   "cell_type": "code",
   "execution_count": 15,
   "id": "19d6b72b",
   "metadata": {},
   "outputs": [
    {
     "name": "stdout",
     "output_type": "stream",
     "text": [
      " * sqlite://\n",
      "Done.\n"
     ]
    },
    {
     "data": {
      "text/html": [
       "<table>\n",
       "    <tr>\n",
       "        <th>product</th>\n",
       "        <th>avg(price)</th>\n",
       "    </tr>\n",
       "    <tr>\n",
       "        <td>0</td>\n",
       "        <td>1.2</td>\n",
       "    </tr>\n",
       "    <tr>\n",
       "        <td>1</td>\n",
       "        <td>1.375</td>\n",
       "    </tr>\n",
       "    <tr>\n",
       "        <td>2</td>\n",
       "        <td>1.3</td>\n",
       "    </tr>\n",
       "</table>"
      ],
      "text/plain": [
       "[(0, 1.2), (1, 1.375), (2, 1.3)]"
      ]
     },
     "execution_count": 15,
     "metadata": {},
     "output_type": "execute_result"
    }
   ],
   "source": [
    "%%sql\n",
    "select \n",
    "    product, avg(price)\n",
    "    from sales\n",
    "    group by product;"
   ]
  },
  {
   "cell_type": "code",
   "execution_count": 7,
   "id": "68fcd218",
   "metadata": {},
   "outputs": [
    {
     "name": "stdout",
     "output_type": "stream",
     "text": [
      " * sqlite://\n",
      "1 rows affected.\n"
     ]
    },
    {
     "data": {
      "text/plain": [
       "[]"
      ]
     },
     "execution_count": 7,
     "metadata": {},
     "output_type": "execute_result"
    }
   ],
   "source": [
    "%%sql\n",
    "INSERT INTO sales\n",
    "VALUES ('sale_8', '2019-13-09 05:00', 2, TRUE, 1.3);"
   ]
  },
  {
   "cell_type": "code",
   "execution_count": 10,
   "id": "4498cb68",
   "metadata": {},
   "outputs": [
    {
     "name": "stdout",
     "output_type": "stream",
     "text": [
      " * sqlite://\n",
      "Done.\n"
     ]
    },
    {
     "data": {
      "text/html": [
       "<table>\n",
       "    <tr>\n",
       "        <th>product</th>\n",
       "        <th>price</th>\n",
       "    </tr>\n",
       "    <tr>\n",
       "        <td>0</td>\n",
       "        <td>1.1</td>\n",
       "    </tr>\n",
       "    <tr>\n",
       "        <td>0</td>\n",
       "        <td>1.2</td>\n",
       "    </tr>\n",
       "    <tr>\n",
       "        <td>0</td>\n",
       "        <td>1.3</td>\n",
       "    </tr>\n",
       "    <tr>\n",
       "        <td>1</td>\n",
       "        <td>1.4</td>\n",
       "    </tr>\n",
       "    <tr>\n",
       "        <td>1</td>\n",
       "        <td>1.5</td>\n",
       "    </tr>\n",
       "    <tr>\n",
       "        <td>1</td>\n",
       "        <td>1.5</td>\n",
       "    </tr>\n",
       "    <tr>\n",
       "        <td>1</td>\n",
       "        <td>1.1</td>\n",
       "    </tr>\n",
       "    <tr>\n",
       "        <td>2</td>\n",
       "        <td>1.3</td>\n",
       "    </tr>\n",
       "</table>"
      ],
      "text/plain": [
       "[(0, 1.1),\n",
       " (0, 1.2),\n",
       " (0, 1.3),\n",
       " (1, 1.4),\n",
       " (1, 1.5),\n",
       " (1, 1.5),\n",
       " (1, 1.1),\n",
       " (2, 1.3)]"
      ]
     },
     "execution_count": 10,
     "metadata": {},
     "output_type": "execute_result"
    }
   ],
   "source": [
    "%%sql\n",
    "select \n",
    "    product, price \n",
    "    from sales\n",
    "    where ts >= \"2019-11-08 00:00\"\n"
   ]
  },
  {
   "cell_type": "code",
   "execution_count": null,
   "id": "ea9e98ce",
   "metadata": {},
   "outputs": [],
   "source": []
  },
  {
   "cell_type": "code",
   "execution_count": null,
   "id": "8f13c7ee",
   "metadata": {},
   "outputs": [],
   "source": []
  },
  {
   "cell_type": "code",
   "execution_count": null,
   "id": "00a81831",
   "metadata": {},
   "outputs": [],
   "source": [
    "# I want key, product, completed status of sales where \n",
    "# time is > 1:00 and price is less than 1.3\n",
    "\n",
    "# \"avinash\" > \"sharu\"\n",
    "# 50 > 20"
   ]
  },
  {
   "cell_type": "code",
   "execution_count": 5,
   "id": "89684c51",
   "metadata": {},
   "outputs": [
    {
     "name": "stdout",
     "output_type": "stream",
     "text": [
      " * sqlite://\n",
      "Done.\n"
     ]
    },
    {
     "data": {
      "text/html": [
       "<table>\n",
       "    <tr>\n",
       "        <th>key</th>\n",
       "        <th>product</th>\n",
       "        <th>completed</th>\n",
       "    </tr>\n",
       "    <tr>\n",
       "        <td>sale_7</td>\n",
       "        <td>1</td>\n",
       "        <td>1</td>\n",
       "    </tr>\n",
       "</table>"
      ],
      "text/plain": [
       "[('sale_7', 1, 1)]"
      ]
     },
     "execution_count": 5,
     "metadata": {},
     "output_type": "execute_result"
    }
   ],
   "source": [
    "%%sql\n",
    "\n",
    "select key, product, completed from sales where ts > \"2019-11-08 01:00\" and price < 1.3;"
   ]
  },
  {
   "cell_type": "code",
   "execution_count": 22,
   "id": "a6d99080",
   "metadata": {},
   "outputs": [
    {
     "name": "stdout",
     "output_type": "stream",
     "text": [
      " * sqlite://\n",
      "Done.\n"
     ]
    },
    {
     "data": {
      "text/html": [
       "<table>\n",
       "    <tr>\n",
       "        <th>key</th>\n",
       "        <th>ts</th>\n",
       "        <th>product</th>\n",
       "        <th>completed</th>\n",
       "        <th>price</th>\n",
       "    </tr>\n",
       "    <tr>\n",
       "        <td>sale_5</td>\n",
       "        <td>2019-11-08 02:00</td>\n",
       "        <td>1</td>\n",
       "        <td>1</td>\n",
       "        <td>1.5</td>\n",
       "    </tr>\n",
       "    <tr>\n",
       "        <td>sale_6</td>\n",
       "        <td>2019-11-08 02:00</td>\n",
       "        <td>1</td>\n",
       "        <td>1</td>\n",
       "        <td>1.5</td>\n",
       "    </tr>\n",
       "</table>"
      ],
      "text/plain": [
       "[('sale_5', '2019-11-08 02:00', 1, 1, 1.5),\n",
       " ('sale_6', '2019-11-08 02:00', 1, 1, 1.5)]"
      ]
     },
     "execution_count": 22,
     "metadata": {},
     "output_type": "execute_result"
    }
   ],
   "source": [
    "%%sql\n",
    "\n",
    "select * from sales where ts > \"2019-11-08 01:00\";"
   ]
  },
  {
   "cell_type": "code",
   "execution_count": 9,
   "id": "88dbd90b",
   "metadata": {},
   "outputs": [
    {
     "name": "stdout",
     "output_type": "stream",
     "text": [
      " * sqlite://\n",
      "Done.\n"
     ]
    },
    {
     "data": {
      "text/html": [
       "<table>\n",
       "    <tr>\n",
       "        <th>key</th>\n",
       "        <th>ts</th>\n",
       "        <th>product</th>\n",
       "        <th>completed</th>\n",
       "        <th>price</th>\n",
       "    </tr>\n",
       "    <tr>\n",
       "        <td>sale_5</td>\n",
       "        <td>2019-11-08 02:00</td>\n",
       "        <td>1</td>\n",
       "        <td>1</td>\n",
       "        <td>1.5</td>\n",
       "    </tr>\n",
       "    <tr>\n",
       "        <td>sale_6</td>\n",
       "        <td>2019-11-08 02:00</td>\n",
       "        <td>1</td>\n",
       "        <td>1</td>\n",
       "        <td>1.5</td>\n",
       "    </tr>\n",
       "</table>"
      ],
      "text/plain": [
       "[('sale_5', '2019-11-08 02:00', 1, 1, 1.5),\n",
       " ('sale_6', '2019-11-08 02:00', 1, 1, 1.5)]"
      ]
     },
     "execution_count": 9,
     "metadata": {},
     "output_type": "execute_result"
    }
   ],
   "source": [
    "%%sql\n",
    "select * from sales where price > 1.4;"
   ]
  },
  {
   "cell_type": "code",
   "execution_count": 7,
   "id": "760e08e7",
   "metadata": {},
   "outputs": [
    {
     "name": "stdout",
     "output_type": "stream",
     "text": [
      " * sqlite://\n",
      "Done.\n"
     ]
    },
    {
     "data": {
      "text/html": [
       "<table>\n",
       "    <tr>\n",
       "        <th>ts</th>\n",
       "    </tr>\n",
       "    <tr>\n",
       "        <td>2019-11-08 00:00</td>\n",
       "    </tr>\n",
       "    <tr>\n",
       "        <td>2019-11-08 01:00</td>\n",
       "    </tr>\n",
       "    <tr>\n",
       "        <td>2019-11-08 01:00</td>\n",
       "    </tr>\n",
       "    <tr>\n",
       "        <td>2019-11-08 01:00</td>\n",
       "    </tr>\n",
       "    <tr>\n",
       "        <td>2019-11-08 02:00</td>\n",
       "    </tr>\n",
       "    <tr>\n",
       "        <td>2019-11-08 02:00</td>\n",
       "    </tr>\n",
       "</table>"
      ],
      "text/plain": [
       "[('2019-11-08 00:00',),\n",
       " ('2019-11-08 01:00',),\n",
       " ('2019-11-08 01:00',),\n",
       " ('2019-11-08 01:00',),\n",
       " ('2019-11-08 02:00',),\n",
       " ('2019-11-08 02:00',)]"
      ]
     },
     "execution_count": 7,
     "metadata": {},
     "output_type": "execute_result"
    }
   ],
   "source": [
    "%%sql\n",
    "select ts from sales;"
   ]
  },
  {
   "cell_type": "code",
   "execution_count": 8,
   "id": "e9b77c43",
   "metadata": {},
   "outputs": [
    {
     "name": "stdout",
     "output_type": "stream",
     "text": [
      " * sqlite://\n",
      "Done.\n"
     ]
    },
    {
     "data": {
      "text/html": [
       "<table>\n",
       "    <tr>\n",
       "        <th>key</th>\n",
       "        <th>ts</th>\n",
       "        <th>product</th>\n",
       "        <th>completed</th>\n",
       "        <th>price</th>\n",
       "    </tr>\n",
       "    <tr>\n",
       "        <td>sale_4</td>\n",
       "        <td>2019-11-08 01:00</td>\n",
       "        <td>1</td>\n",
       "        <td>0</td>\n",
       "        <td>1.4</td>\n",
       "    </tr>\n",
       "    <tr>\n",
       "        <td>sale_5</td>\n",
       "        <td>2019-11-08 02:00</td>\n",
       "        <td>1</td>\n",
       "        <td>1</td>\n",
       "        <td>1.5</td>\n",
       "    </tr>\n",
       "    <tr>\n",
       "        <td>sale_6</td>\n",
       "        <td>2019-11-08 02:00</td>\n",
       "        <td>1</td>\n",
       "        <td>1</td>\n",
       "        <td>1.5</td>\n",
       "    </tr>\n",
       "</table>"
      ],
      "text/plain": [
       "[('sale_4', '2019-11-08 01:00', 1, 0, 1.4),\n",
       " ('sale_5', '2019-11-08 02:00', 1, 1, 1.5),\n",
       " ('sale_6', '2019-11-08 02:00', 1, 1, 1.5)]"
      ]
     },
     "execution_count": 8,
     "metadata": {},
     "output_type": "execute_result"
    }
   ],
   "source": [
    "%%sql\n",
    "select * from sales where product = 1;"
   ]
  },
  {
   "cell_type": "code",
   "execution_count": 6,
   "id": "e8fbba6f",
   "metadata": {},
   "outputs": [
    {
     "name": "stdout",
     "output_type": "stream",
     "text": [
      " * sqlite://\n",
      "Done.\n"
     ]
    },
    {
     "data": {
      "text/html": [
       "<table>\n",
       "    <tr>\n",
       "        <th>ts</th>\n",
       "        <th>product</th>\n",
       "    </tr>\n",
       "    <tr>\n",
       "        <td>2019-11-08 02:00</td>\n",
       "        <td>1</td>\n",
       "    </tr>\n",
       "    <tr>\n",
       "        <td>2019-11-08 02:00</td>\n",
       "        <td>1</td>\n",
       "    </tr>\n",
       "</table>"
      ],
      "text/plain": [
       "[('2019-11-08 02:00', 1), ('2019-11-08 02:00', 1)]"
      ]
     },
     "execution_count": 6,
     "metadata": {},
     "output_type": "execute_result"
    }
   ],
   "source": [
    "%%sql\n",
    "select ts, product from sales where price > 1.4;"
   ]
  },
  {
   "cell_type": "code",
   "execution_count": 15,
   "id": "ac440661",
   "metadata": {},
   "outputs": [
    {
     "name": "stdout",
     "output_type": "stream",
     "text": [
      " * sqlite://\n",
      "Done.\n"
     ]
    },
    {
     "data": {
      "text/html": [
       "<table>\n",
       "    <tr>\n",
       "        <th>name</th>\n",
       "    </tr>\n",
       "    <tr>\n",
       "        <td>sales</td>\n",
       "    </tr>\n",
       "</table>"
      ],
      "text/plain": [
       "[('sales',)]"
      ]
     },
     "execution_count": 15,
     "metadata": {},
     "output_type": "execute_result"
    }
   ],
   "source": [
    "%%sql \n",
    "SELECT name FROM sqlite_master WHERE type='table'\n"
   ]
  },
  {
   "cell_type": "markdown",
   "id": "11fe5d6d",
   "metadata": {},
   "source": [
    "https://www.w3schools.com/sql/sql_select.asp\n",
    "https://www.w3schools.com/sql/trysql.asp?filename=trysql_select_where"
   ]
  },
  {
   "cell_type": "code",
   "execution_count": 1,
   "id": "b8f3c84c",
   "metadata": {},
   "outputs": [
    {
     "name": "stdout",
     "output_type": "stream",
     "text": [
      "/bin/bash: -c: line 0: syntax error near unexpected token `\"../../1627651746552.jpeg\"'\r\n",
      "/bin/bash: -c: line 0: `[](\"../../1627651746552.jpeg\")'\r\n"
     ]
    }
   ],
   "source": [
    "![](\"../../1627651746552.jpeg\")"
   ]
  },
  {
   "cell_type": "markdown",
   "id": "859f7fd9",
   "metadata": {},
   "source": [
    "select name\n",
    " from table_name\n",
    " where condition\n",
    " group by <gouping of things>\n",
    " having <condition on group by >\n",
    "    order by\n",
    "    Limit"
   ]
  }
 ],
 "metadata": {
  "kernelspec": {
   "display_name": "Python 3",
   "language": "python",
   "name": "python3"
  },
  "language_info": {
   "codemirror_mode": {
    "name": "ipython",
    "version": 3
   },
   "file_extension": ".py",
   "mimetype": "text/x-python",
   "name": "python",
   "nbconvert_exporter": "python",
   "pygments_lexer": "ipython3",
   "version": "3.8.2"
  }
 },
 "nbformat": 4,
 "nbformat_minor": 5
}
