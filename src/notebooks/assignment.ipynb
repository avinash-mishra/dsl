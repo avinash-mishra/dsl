{
 "cells": [
  {
   "cell_type": "code",
   "execution_count": null,
   "id": "4e9fd4ff",
   "metadata": {},
   "outputs": [],
   "source": [
    "class CoffeeCup():\n",
    "\n",
    "    # create init method that takes capacity as parameter and assign capacity to class level capacity (self.capacity) and class level amount (self.amount)= 0\n",
    "    def __init__\n",
    "\n",
    "    # create a fill method and assign class level amount to capacity\n",
    "    def fill\n",
    "\n",
    "    # create an empty method and remove all amount from class level variable, means self.amount to 0\n",
    "    def empty\n",
    "\n",
    "    # create drink method that will take amount as parameter, and deduct amount from original amount that a person has drink already. If previouls amount is 0 then nothing can be deducted.\n",
    "    def drink\n",
    "      \n",
    "steves_cup = CoffeeCup(12)  # a fancy latte.\n",
    "seans_cup = CoffeeCup(16)    # gas station drip.\n",
    "brandis_cup = CoffeeCup(2)  # a quick espresso.\n",
    "\n",
    "print(steves_cup.amount, \"ounces in the beginning\")\n",
    "print(seans_cup.amount, \"ounces in the beginning\")\n",
    "print(brandis_cup.amount, \"ounces in the beginning\")\n",
    "print()\n",
    "\n",
    "steves_cup.fill()\n",
    "seans_cup.fill()\n",
    "brandis_cup.fill()\n",
    "\n",
    "print(steves_cup.amount, \"ounces once filled\")\n",
    "print(seans_cup.amount, \"ounces once filled\")\n",
    "print(brandis_cup.amount, \"ounces once filled\")\n",
    "print()\n",
    "\n",
    "steves_cup.drink(1)\n",
    "seans_cup.drink(1)\n",
    "brandis_cup.drink(1)\n",
    "\n",
    "print(steves_cup.amount, \"ounces left after sip\")\n",
    "print(seans_cup.amount, \"ounces left after sip\")\n",
    "print(brandis_cup.amount, \"ounces left after sip\")"
   ]
  }
 ],
 "metadata": {
  "kernelspec": {
   "display_name": "Python 3",
   "language": "python",
   "name": "python3"
  },
  "language_info": {
   "codemirror_mode": {
    "name": "ipython",
    "version": 3
   },
   "file_extension": ".py",
   "mimetype": "text/x-python",
   "name": "python",
   "nbconvert_exporter": "python",
   "pygments_lexer": "ipython3",
   "version": "3.8.2"
  }
 },
 "nbformat": 4,
 "nbformat_minor": 5
}
