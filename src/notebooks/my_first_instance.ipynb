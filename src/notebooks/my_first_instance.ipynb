{
 "cells": [
  {
   "cell_type": "code",
   "execution_count": 1,
   "id": "9f7e4e13",
   "metadata": {},
   "outputs": [
    {
     "name": "stdout",
     "output_type": "stream",
     "text": [
      "japan\n"
     ]
    }
   ],
   "source": [
    "print(\"japan\")"
   ]
  },
  {
   "cell_type": "markdown",
   "id": "cc2d3f4c",
   "metadata": {},
   "source": [
    "# hi avi"
   ]
  },
  {
   "cell_type": "code",
   "execution_count": 2,
   "id": "ab01aaa7",
   "metadata": {
    "scrolled": true
   },
   "outputs": [
    {
     "name": "stdout",
     "output_type": "stream",
     "text": [
      "hi avi\n"
     ]
    }
   ],
   "source": [
    "my_name = \"avi\"\n",
    "\n",
    "print(f\"hi {my_name}\")"
   ]
  },
  {
   "cell_type": "markdown",
   "id": "0bef0110",
   "metadata": {},
   "source": [
    "# hi sharu"
   ]
  },
  {
   "cell_type": "code",
   "execution_count": null,
   "id": "6fdc6f37",
   "metadata": {},
   "outputs": [],
   "source": [
    "print(\"sharu\")"
   ]
  },
  {
   "cell_type": "code",
   "execution_count": 4,
   "id": "cad9d19c",
   "metadata": {},
   "outputs": [
    {
     "name": "stdout",
     "output_type": "stream",
     "text": [
      "sharu sharu sharu sharu sharu \n"
     ]
    }
   ],
   "source": [
    "name = \"sharu \"\n",
    "\n",
    "print(name *5)"
   ]
  },
  {
   "cell_type": "code",
   "execution_count": null,
   "id": "c1015cdd",
   "metadata": {},
   "outputs": [],
   "source": []
  }
 ],
 "metadata": {
  "kernelspec": {
   "display_name": "Python 3",
   "language": "python",
   "name": "python3"
  },
  "language_info": {
   "codemirror_mode": {
    "name": "ipython",
    "version": 3
   },
   "file_extension": ".py",
   "mimetype": "text/x-python",
   "name": "python",
   "nbconvert_exporter": "python",
   "pygments_lexer": "ipython3",
   "version": "3.8.8"
  }
 },
 "nbformat": 4,
 "nbformat_minor": 5
}
