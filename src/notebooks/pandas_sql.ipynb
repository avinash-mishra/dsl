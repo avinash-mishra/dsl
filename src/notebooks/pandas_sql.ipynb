{
 "cells": [
  {
   "cell_type": "code",
   "execution_count": 1,
   "id": "b11c0141",
   "metadata": {},
   "outputs": [],
   "source": [
    "import pandas as pd\n",
    "import numpy as np\n",
    "from sqlalchemy import create_engine\n",
    "engine = create_engine('sqlite://', echo=False)\n"
   ]
  },
  {
   "cell_type": "code",
   "execution_count": 2,
   "id": "a3a9ecbc",
   "metadata": {},
   "outputs": [
    {
     "data": {
      "text/html": [
       "<div>\n",
       "<style scoped>\n",
       "    .dataframe tbody tr th:only-of-type {\n",
       "        vertical-align: middle;\n",
       "    }\n",
       "\n",
       "    .dataframe tbody tr th {\n",
       "        vertical-align: top;\n",
       "    }\n",
       "\n",
       "    .dataframe thead th {\n",
       "        text-align: right;\n",
       "    }\n",
       "</style>\n",
       "<table border=\"1\" class=\"dataframe\">\n",
       "  <thead>\n",
       "    <tr style=\"text-align: right;\">\n",
       "      <th></th>\n",
       "      <th>name</th>\n",
       "      <th>age</th>\n",
       "      <th>sex</th>\n",
       "      <th>salary</th>\n",
       "    </tr>\n",
       "  </thead>\n",
       "  <tbody>\n",
       "    <tr>\n",
       "      <th>0</th>\n",
       "      <td>avi</td>\n",
       "      <td>33</td>\n",
       "      <td>male</td>\n",
       "      <td>100</td>\n",
       "    </tr>\n",
       "    <tr>\n",
       "      <th>1</th>\n",
       "      <td>nancy</td>\n",
       "      <td>23</td>\n",
       "      <td>female</td>\n",
       "      <td>223</td>\n",
       "    </tr>\n",
       "    <tr>\n",
       "      <th>2</th>\n",
       "      <td>sharu</td>\n",
       "      <td>22</td>\n",
       "      <td>female</td>\n",
       "      <td>334</td>\n",
       "    </tr>\n",
       "    <tr>\n",
       "      <th>3</th>\n",
       "      <td>ronit</td>\n",
       "      <td>33</td>\n",
       "      <td>male</td>\n",
       "      <td>423</td>\n",
       "    </tr>\n",
       "    <tr>\n",
       "      <th>4</th>\n",
       "      <td>umesh</td>\n",
       "      <td>33</td>\n",
       "      <td>male</td>\n",
       "      <td>512</td>\n",
       "    </tr>\n",
       "  </tbody>\n",
       "</table>\n",
       "</div>"
      ],
      "text/plain": [
       "    name  age     sex  salary\n",
       "0    avi   33    male     100\n",
       "1  nancy   23  female     223\n",
       "2  sharu   22  female     334\n",
       "3  ronit   33    male     423\n",
       "4  umesh   33    male     512"
      ]
     },
     "execution_count": 2,
     "metadata": {},
     "output_type": "execute_result"
    }
   ],
   "source": [
    "df = pd.DataFrame({\n",
    "    \"name\": [\"avi\", \"nancy\", \"sharu\", \"ronit\", \"umesh\"],\n",
    "    \"age\": [33,23,22,33,33],\n",
    "    \"sex\": [\"male\", \"female\", \"female\", \"male\", \"male\"],\n",
    "    \"salary\": [100,223,334,423,512]\n",
    "})\n",
    "df.to_sql('df', con=engine)\n",
    "\n",
    "df"
   ]
  },
  {
   "cell_type": "markdown",
   "id": "2865136c",
   "metadata": {},
   "source": [
    "# SQL way"
   ]
  },
  {
   "cell_type": "code",
   "execution_count": 3,
   "id": "45dd1a5c",
   "metadata": {
    "scrolled": false
   },
   "outputs": [
    {
     "data": {
      "text/plain": [
       "[(0, 'avi', 33, 'male', 100),\n",
       " (1, 'nancy', 23, 'female', 223),\n",
       " (2, 'sharu', 22, 'female', 334),\n",
       " (3, 'ronit', 33, 'male', 423),\n",
       " (4, 'umesh', 33, 'male', 512)]"
      ]
     },
     "execution_count": 3,
     "metadata": {},
     "output_type": "execute_result"
    }
   ],
   "source": [
    "engine.execute(\"SELECT * FROM df\").fetchall()"
   ]
  },
  {
   "cell_type": "markdown",
   "id": "a8999050",
   "metadata": {},
   "source": [
    "# Pandas Way"
   ]
  },
  {
   "cell_type": "code",
   "execution_count": 4,
   "id": "7a8a835b",
   "metadata": {
    "scrolled": true
   },
   "outputs": [
    {
     "data": {
      "text/html": [
       "<div>\n",
       "<style scoped>\n",
       "    .dataframe tbody tr th:only-of-type {\n",
       "        vertical-align: middle;\n",
       "    }\n",
       "\n",
       "    .dataframe tbody tr th {\n",
       "        vertical-align: top;\n",
       "    }\n",
       "\n",
       "    .dataframe thead th {\n",
       "        text-align: right;\n",
       "    }\n",
       "</style>\n",
       "<table border=\"1\" class=\"dataframe\">\n",
       "  <thead>\n",
       "    <tr style=\"text-align: right;\">\n",
       "      <th></th>\n",
       "      <th>name</th>\n",
       "      <th>age</th>\n",
       "      <th>sex</th>\n",
       "      <th>salary</th>\n",
       "    </tr>\n",
       "  </thead>\n",
       "  <tbody>\n",
       "    <tr>\n",
       "      <th>0</th>\n",
       "      <td>avi</td>\n",
       "      <td>33</td>\n",
       "      <td>male</td>\n",
       "      <td>100</td>\n",
       "    </tr>\n",
       "    <tr>\n",
       "      <th>1</th>\n",
       "      <td>nancy</td>\n",
       "      <td>23</td>\n",
       "      <td>female</td>\n",
       "      <td>223</td>\n",
       "    </tr>\n",
       "    <tr>\n",
       "      <th>2</th>\n",
       "      <td>sharu</td>\n",
       "      <td>22</td>\n",
       "      <td>female</td>\n",
       "      <td>334</td>\n",
       "    </tr>\n",
       "    <tr>\n",
       "      <th>3</th>\n",
       "      <td>ronit</td>\n",
       "      <td>33</td>\n",
       "      <td>male</td>\n",
       "      <td>423</td>\n",
       "    </tr>\n",
       "    <tr>\n",
       "      <th>4</th>\n",
       "      <td>umesh</td>\n",
       "      <td>33</td>\n",
       "      <td>male</td>\n",
       "      <td>512</td>\n",
       "    </tr>\n",
       "  </tbody>\n",
       "</table>\n",
       "</div>"
      ],
      "text/plain": [
       "    name  age     sex  salary\n",
       "0    avi   33    male     100\n",
       "1  nancy   23  female     223\n",
       "2  sharu   22  female     334\n",
       "3  ronit   33    male     423\n",
       "4  umesh   33    male     512"
      ]
     },
     "execution_count": 4,
     "metadata": {},
     "output_type": "execute_result"
    }
   ],
   "source": [
    "df"
   ]
  },
  {
   "cell_type": "markdown",
   "id": "eafc87b0",
   "metadata": {},
   "source": [
    "# LIMIT"
   ]
  },
  {
   "cell_type": "code",
   "execution_count": 5,
   "id": "f4e0b2fa",
   "metadata": {},
   "outputs": [
    {
     "data": {
      "text/plain": [
       "[(0, 'avi', 33, 'male', 100),\n",
       " (1, 'nancy', 23, 'female', 223),\n",
       " (2, 'sharu', 22, 'female', 334)]"
      ]
     },
     "execution_count": 5,
     "metadata": {},
     "output_type": "execute_result"
    }
   ],
   "source": [
    "# sql vs pandas\n",
    "engine.execute(\"SELECT * FROM df limit 3\").fetchall()"
   ]
  },
  {
   "cell_type": "code",
   "execution_count": 6,
   "id": "5ae06955",
   "metadata": {
    "scrolled": true
   },
   "outputs": [
    {
     "data": {
      "text/html": [
       "<div>\n",
       "<style scoped>\n",
       "    .dataframe tbody tr th:only-of-type {\n",
       "        vertical-align: middle;\n",
       "    }\n",
       "\n",
       "    .dataframe tbody tr th {\n",
       "        vertical-align: top;\n",
       "    }\n",
       "\n",
       "    .dataframe thead th {\n",
       "        text-align: right;\n",
       "    }\n",
       "</style>\n",
       "<table border=\"1\" class=\"dataframe\">\n",
       "  <thead>\n",
       "    <tr style=\"text-align: right;\">\n",
       "      <th></th>\n",
       "      <th>name</th>\n",
       "      <th>age</th>\n",
       "      <th>sex</th>\n",
       "      <th>salary</th>\n",
       "    </tr>\n",
       "  </thead>\n",
       "  <tbody>\n",
       "    <tr>\n",
       "      <th>0</th>\n",
       "      <td>avi</td>\n",
       "      <td>33</td>\n",
       "      <td>male</td>\n",
       "      <td>100</td>\n",
       "    </tr>\n",
       "    <tr>\n",
       "      <th>1</th>\n",
       "      <td>nancy</td>\n",
       "      <td>23</td>\n",
       "      <td>female</td>\n",
       "      <td>223</td>\n",
       "    </tr>\n",
       "    <tr>\n",
       "      <th>2</th>\n",
       "      <td>sharu</td>\n",
       "      <td>22</td>\n",
       "      <td>female</td>\n",
       "      <td>334</td>\n",
       "    </tr>\n",
       "  </tbody>\n",
       "</table>\n",
       "</div>"
      ],
      "text/plain": [
       "    name  age     sex  salary\n",
       "0    avi   33    male     100\n",
       "1  nancy   23  female     223\n",
       "2  sharu   22  female     334"
      ]
     },
     "execution_count": 6,
     "metadata": {},
     "output_type": "execute_result"
    }
   ],
   "source": [
    "df.head(3)"
   ]
  },
  {
   "cell_type": "markdown",
   "id": "81c08fed",
   "metadata": {},
   "source": [
    "# where clause"
   ]
  },
  {
   "cell_type": "code",
   "execution_count": 7,
   "id": "95ea9341",
   "metadata": {},
   "outputs": [
    {
     "data": {
      "text/plain": [
       "[(1, 'nancy', 23, 'female', 223)]"
      ]
     },
     "execution_count": 7,
     "metadata": {},
     "output_type": "execute_result"
    }
   ],
   "source": [
    "engine.execute(\"\"\"SELECT * FROM df where name=\"nancy\" \"\"\").fetchall()"
   ]
  },
  {
   "cell_type": "code",
   "execution_count": 8,
   "id": "e401fb5f",
   "metadata": {},
   "outputs": [
    {
     "data": {
      "text/html": [
       "<div>\n",
       "<style scoped>\n",
       "    .dataframe tbody tr th:only-of-type {\n",
       "        vertical-align: middle;\n",
       "    }\n",
       "\n",
       "    .dataframe tbody tr th {\n",
       "        vertical-align: top;\n",
       "    }\n",
       "\n",
       "    .dataframe thead th {\n",
       "        text-align: right;\n",
       "    }\n",
       "</style>\n",
       "<table border=\"1\" class=\"dataframe\">\n",
       "  <thead>\n",
       "    <tr style=\"text-align: right;\">\n",
       "      <th></th>\n",
       "      <th>name</th>\n",
       "      <th>age</th>\n",
       "      <th>sex</th>\n",
       "      <th>salary</th>\n",
       "    </tr>\n",
       "  </thead>\n",
       "  <tbody>\n",
       "    <tr>\n",
       "      <th>1</th>\n",
       "      <td>nancy</td>\n",
       "      <td>23</td>\n",
       "      <td>female</td>\n",
       "      <td>223</td>\n",
       "    </tr>\n",
       "  </tbody>\n",
       "</table>\n",
       "</div>"
      ],
      "text/plain": [
       "    name  age     sex  salary\n",
       "1  nancy   23  female     223"
      ]
     },
     "execution_count": 8,
     "metadata": {},
     "output_type": "execute_result"
    }
   ],
   "source": [
    "df[df.name == \"nancy\"]"
   ]
  },
  {
   "cell_type": "code",
   "execution_count": 9,
   "id": "5e20ab56",
   "metadata": {},
   "outputs": [
    {
     "data": {
      "text/plain": [
       "'  hi \"nancy - \\'fish\\'\"  '"
      ]
     },
     "execution_count": 9,
     "metadata": {},
     "output_type": "execute_result"
    }
   ],
   "source": [
    "# 'hi nancy'\n",
    "# \"hi nancy\"\n",
    "\n",
    "# \"hi \"nancy\"\"\n",
    "# \"hi 'nancy'\"\n",
    "# \"hi 'nancy - 'fish''\"\n",
    "\n",
    "\"\"\"  hi \"nancy - 'fish'\"  \"\"\""
   ]
  },
  {
   "cell_type": "code",
   "execution_count": 10,
   "id": "b1338f1e",
   "metadata": {},
   "outputs": [
    {
     "data": {
      "text/plain": [
       "'hi nancy'"
      ]
     },
     "execution_count": 10,
     "metadata": {},
     "output_type": "execute_result"
    }
   ],
   "source": [
    "n = \"nancy\"\n",
    "f\"hi {n}\""
   ]
  },
  {
   "cell_type": "markdown",
   "id": "23303d78",
   "metadata": {},
   "source": [
    "# distinct"
   ]
  },
  {
   "cell_type": "code",
   "execution_count": 11,
   "id": "97a369aa",
   "metadata": {},
   "outputs": [
    {
     "data": {
      "text/plain": [
       "[(33,), (23,), (22,)]"
      ]
     },
     "execution_count": 11,
     "metadata": {},
     "output_type": "execute_result"
    }
   ],
   "source": [
    "engine.execute(\"\"\"SELECT distinct age FROM df \"\"\").fetchall()"
   ]
  },
  {
   "cell_type": "code",
   "execution_count": 15,
   "id": "504a149c",
   "metadata": {},
   "outputs": [
    {
     "data": {
      "text/plain": [
       "array([33, 23, 22])"
      ]
     },
     "execution_count": 15,
     "metadata": {},
     "output_type": "execute_result"
    }
   ],
   "source": [
    "df.age.unique()"
   ]
  },
  {
   "cell_type": "markdown",
   "id": "d2eb0633",
   "metadata": {},
   "source": [
    "df.sex.value_counts()"
   ]
  },
  {
   "cell_type": "markdown",
   "id": "e1403ae2",
   "metadata": {},
   "source": [
    "# select"
   ]
  },
  {
   "cell_type": "code",
   "execution_count": 22,
   "id": "8e0d383f",
   "metadata": {},
   "outputs": [
    {
     "data": {
      "text/plain": [
       "[('avi', 33), ('nancy', 23), ('sharu', 22), ('ronit', 33), ('umesh', 33)]"
      ]
     },
     "execution_count": 22,
     "metadata": {},
     "output_type": "execute_result"
    }
   ],
   "source": [
    "engine.execute(\"\"\"SELECT name, age FROM df \"\"\").fetchall()"
   ]
  },
  {
   "cell_type": "code",
   "execution_count": 24,
   "id": "b66fd6c5",
   "metadata": {},
   "outputs": [
    {
     "data": {
      "text/plain": [
       "0      avi\n",
       "1    nancy\n",
       "2    sharu\n",
       "3    ronit\n",
       "4    umesh\n",
       "Name: name, dtype: object"
      ]
     },
     "execution_count": 24,
     "metadata": {},
     "output_type": "execute_result"
    }
   ],
   "source": [
    "df[\"name\"]"
   ]
  },
  {
   "cell_type": "code",
   "execution_count": 25,
   "id": "268ee447",
   "metadata": {},
   "outputs": [
    {
     "data": {
      "text/html": [
       "<div>\n",
       "<style scoped>\n",
       "    .dataframe tbody tr th:only-of-type {\n",
       "        vertical-align: middle;\n",
       "    }\n",
       "\n",
       "    .dataframe tbody tr th {\n",
       "        vertical-align: top;\n",
       "    }\n",
       "\n",
       "    .dataframe thead th {\n",
       "        text-align: right;\n",
       "    }\n",
       "</style>\n",
       "<table border=\"1\" class=\"dataframe\">\n",
       "  <thead>\n",
       "    <tr style=\"text-align: right;\">\n",
       "      <th></th>\n",
       "      <th>name</th>\n",
       "      <th>age</th>\n",
       "    </tr>\n",
       "  </thead>\n",
       "  <tbody>\n",
       "    <tr>\n",
       "      <th>0</th>\n",
       "      <td>avi</td>\n",
       "      <td>33</td>\n",
       "    </tr>\n",
       "    <tr>\n",
       "      <th>1</th>\n",
       "      <td>nancy</td>\n",
       "      <td>23</td>\n",
       "    </tr>\n",
       "    <tr>\n",
       "      <th>2</th>\n",
       "      <td>sharu</td>\n",
       "      <td>22</td>\n",
       "    </tr>\n",
       "    <tr>\n",
       "      <th>3</th>\n",
       "      <td>ronit</td>\n",
       "      <td>33</td>\n",
       "    </tr>\n",
       "    <tr>\n",
       "      <th>4</th>\n",
       "      <td>umesh</td>\n",
       "      <td>33</td>\n",
       "    </tr>\n",
       "  </tbody>\n",
       "</table>\n",
       "</div>"
      ],
      "text/plain": [
       "    name  age\n",
       "0    avi   33\n",
       "1  nancy   23\n",
       "2  sharu   22\n",
       "3  ronit   33\n",
       "4  umesh   33"
      ]
     },
     "execution_count": 25,
     "metadata": {},
     "output_type": "execute_result"
    }
   ],
   "source": [
    "df[[\"name\", \"age\"]]"
   ]
  },
  {
   "cell_type": "code",
   "execution_count": 27,
   "id": "f3bda77a",
   "metadata": {},
   "outputs": [
    {
     "data": {
      "text/plain": [
       "False"
      ]
     },
     "execution_count": 27,
     "metadata": {},
     "output_type": "execute_result"
    }
   ],
   "source": [
    "True and False"
   ]
  },
  {
   "cell_type": "code",
   "execution_count": 28,
   "id": "fcb32afb",
   "metadata": {},
   "outputs": [
    {
     "data": {
      "text/plain": [
       "True"
      ]
     },
     "execution_count": 28,
     "metadata": {},
     "output_type": "execute_result"
    }
   ],
   "source": [
    "True or False"
   ]
  },
  {
   "cell_type": "code",
   "execution_count": 29,
   "id": "62af306e",
   "metadata": {},
   "outputs": [
    {
     "data": {
      "text/plain": [
       "[(2, 'sharu', 22, 'female', 334)]"
      ]
     },
     "execution_count": 29,
     "metadata": {},
     "output_type": "execute_result"
    }
   ],
   "source": [
    "engine.execute(\"\"\"SELECT * FROM df where age<30 and salary>300\"\"\").fetchall()"
   ]
  },
  {
   "cell_type": "code",
   "execution_count": 32,
   "id": "2f8628b7",
   "metadata": {},
   "outputs": [
    {
     "data": {
      "text/html": [
       "<div>\n",
       "<style scoped>\n",
       "    .dataframe tbody tr th:only-of-type {\n",
       "        vertical-align: middle;\n",
       "    }\n",
       "\n",
       "    .dataframe tbody tr th {\n",
       "        vertical-align: top;\n",
       "    }\n",
       "\n",
       "    .dataframe thead th {\n",
       "        text-align: right;\n",
       "    }\n",
       "</style>\n",
       "<table border=\"1\" class=\"dataframe\">\n",
       "  <thead>\n",
       "    <tr style=\"text-align: right;\">\n",
       "      <th></th>\n",
       "      <th>name</th>\n",
       "      <th>age</th>\n",
       "      <th>sex</th>\n",
       "      <th>salary</th>\n",
       "    </tr>\n",
       "  </thead>\n",
       "  <tbody>\n",
       "    <tr>\n",
       "      <th>2</th>\n",
       "      <td>sharu</td>\n",
       "      <td>22</td>\n",
       "      <td>female</td>\n",
       "      <td>334</td>\n",
       "    </tr>\n",
       "  </tbody>\n",
       "</table>\n",
       "</div>"
      ],
      "text/plain": [
       "    name  age     sex  salary\n",
       "2  sharu   22  female     334"
      ]
     },
     "execution_count": 32,
     "metadata": {},
     "output_type": "execute_result"
    }
   ],
   "source": [
    "df[ (df.age<30) & (df.salary>300) ]\n",
    "# df[ () & ()]"
   ]
  },
  {
   "cell_type": "code",
   "execution_count": null,
   "id": "0900a65b",
   "metadata": {},
   "outputs": [],
   "source": []
  }
 ],
 "metadata": {
  "kernelspec": {
   "display_name": "Python 3",
   "language": "python",
   "name": "python3"
  },
  "language_info": {
   "codemirror_mode": {
    "name": "ipython",
    "version": 3
   },
   "file_extension": ".py",
   "mimetype": "text/x-python",
   "name": "python",
   "nbconvert_exporter": "python",
   "pygments_lexer": "ipython3",
   "version": "3.8.2"
  }
 },
 "nbformat": 4,
 "nbformat_minor": 5
}
