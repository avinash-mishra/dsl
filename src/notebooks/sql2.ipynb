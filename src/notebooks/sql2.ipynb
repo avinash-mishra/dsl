{
 "cells": [
  {
   "cell_type": "code",
   "execution_count": 1,
   "id": "a4f29a0a",
   "metadata": {},
   "outputs": [],
   "source": [
    "%load_ext sql\n",
    "%sql sqlite://"
   ]
  },
  {
   "cell_type": "markdown",
   "id": "f6d413cb",
   "metadata": {},
   "source": [
    "![](https://github.com/XD-DENG/SQL-exercise/blob/master/SQL_exercise_01/1_schema_figure.png?raw=true)"
   ]
  },
  {
   "cell_type": "code",
   "execution_count": 2,
   "id": "0e2e31b9",
   "metadata": {},
   "outputs": [],
   "source": [
    "# CONSTRAINTS"
   ]
  },
  {
   "cell_type": "code",
   "execution_count": 3,
   "id": "80486811",
   "metadata": {
    "scrolled": true
   },
   "outputs": [
    {
     "name": "stdout",
     "output_type": "stream",
     "text": [
      " * sqlite://\n",
      "Done.\n",
      "Done.\n",
      "1 rows affected.\n",
      "1 rows affected.\n",
      "1 rows affected.\n",
      "1 rows affected.\n",
      "1 rows affected.\n",
      "1 rows affected.\n",
      "1 rows affected.\n",
      "1 rows affected.\n",
      "1 rows affected.\n",
      "1 rows affected.\n",
      "1 rows affected.\n",
      "1 rows affected.\n",
      "1 rows affected.\n"
     ]
    },
    {
     "data": {
      "text/plain": [
       "[]"
      ]
     },
     "execution_count": 3,
     "metadata": {},
     "output_type": "execute_result"
    }
   ],
   "source": [
    "%%sql\n",
    "CREATE TABLE Manufacturers (\n",
    "  Code INTEGER,\n",
    "  Name VARCHAR(255) NOT NULL,\n",
    "  PRIMARY KEY (Code)   \n",
    ");\n",
    "\n",
    "CREATE TABLE Products (\n",
    "  Code INTEGER,\n",
    "  Name VARCHAR(255) NOT NULL ,\n",
    "  Price DECIMAL NOT NULL ,\n",
    "  Manufacturer INTEGER NOT NULL,\n",
    "  PRIMARY KEY (Code), \n",
    "  FOREIGN KEY (Manufacturer) REFERENCES Manufacturers(Code)\n",
    ");\n",
    "\n",
    "INSERT INTO Manufacturers(Code,Name) VALUES(1,'Sony');\n",
    "INSERT INTO Manufacturers(Code,Name) VALUES(2,'Creative Labs');\n",
    "INSERT INTO Manufacturers(Code,Name) VALUES(3,'Hewlett-Packard');\n",
    "INSERT INTO Manufacturers(Code,Name) VALUES(4,'Iomega');\n",
    "INSERT INTO Manufacturers(Code,Name) VALUES(5,'Fujitsu');\n",
    "INSERT INTO Manufacturers(Code,Name) VALUES(6,'Winchester');\n",
    "\n",
    "INSERT INTO Products(Code,Name,Price,Manufacturer) VALUES(1,'Hard drive',240,5);\n",
    "INSERT INTO Products(Code,Name,Price,Manufacturer) VALUES(3,'ZIP drive',150,4);\n",
    "INSERT INTO Products(Code,Name,Price,Manufacturer) VALUES(5,'Monitor',240,1);\n",
    "INSERT INTO Products(Code,Name,Price,Manufacturer) VALUES(6,'DVD drive',180,2);\n",
    "INSERT INTO Products(Code,Name,Price,Manufacturer) VALUES(7,'CD drive',90,2);\n",
    "INSERT INTO Products(Code,Name,Price,Manufacturer) VALUES(8,'Printer',270,3);\n",
    "INSERT INTO Products(Code,Name,Price,Manufacturer) VALUES(10,'DVD burner',180,2);"
   ]
  },
  {
   "cell_type": "code",
   "execution_count": 4,
   "id": "7ae4dc2d",
   "metadata": {
    "scrolled": true
   },
   "outputs": [
    {
     "name": "stdout",
     "output_type": "stream",
     "text": [
      " * sqlite://\n",
      "Done.\n"
     ]
    },
    {
     "data": {
      "text/html": [
       "<table>\n",
       "    <tr>\n",
       "        <th>Code</th>\n",
       "        <th>Name</th>\n",
       "    </tr>\n",
       "    <tr>\n",
       "        <td>1</td>\n",
       "        <td>Sony</td>\n",
       "    </tr>\n",
       "    <tr>\n",
       "        <td>2</td>\n",
       "        <td>Creative Labs</td>\n",
       "    </tr>\n",
       "    <tr>\n",
       "        <td>3</td>\n",
       "        <td>Hewlett-Packard</td>\n",
       "    </tr>\n",
       "    <tr>\n",
       "        <td>4</td>\n",
       "        <td>Iomega</td>\n",
       "    </tr>\n",
       "    <tr>\n",
       "        <td>5</td>\n",
       "        <td>Fujitsu</td>\n",
       "    </tr>\n",
       "    <tr>\n",
       "        <td>6</td>\n",
       "        <td>Winchester</td>\n",
       "    </tr>\n",
       "</table>"
      ],
      "text/plain": [
       "[(1, 'Sony'),\n",
       " (2, 'Creative Labs'),\n",
       " (3, 'Hewlett-Packard'),\n",
       " (4, 'Iomega'),\n",
       " (5, 'Fujitsu'),\n",
       " (6, 'Winchester')]"
      ]
     },
     "execution_count": 4,
     "metadata": {},
     "output_type": "execute_result"
    }
   ],
   "source": [
    "%%sql\n",
    "select * from Manufacturers;"
   ]
  },
  {
   "cell_type": "code",
   "execution_count": 5,
   "id": "7746adc9",
   "metadata": {
    "scrolled": false
   },
   "outputs": [
    {
     "name": "stdout",
     "output_type": "stream",
     "text": [
      " * sqlite://\n",
      "Done.\n"
     ]
    },
    {
     "data": {
      "text/html": [
       "<table>\n",
       "    <tr>\n",
       "        <th>Code</th>\n",
       "        <th>Name</th>\n",
       "        <th>Price</th>\n",
       "        <th>Manufacturer</th>\n",
       "    </tr>\n",
       "    <tr>\n",
       "        <td>1</td>\n",
       "        <td>Hard drive</td>\n",
       "        <td>240</td>\n",
       "        <td>5</td>\n",
       "    </tr>\n",
       "    <tr>\n",
       "        <td>3</td>\n",
       "        <td>ZIP drive</td>\n",
       "        <td>150</td>\n",
       "        <td>4</td>\n",
       "    </tr>\n",
       "    <tr>\n",
       "        <td>5</td>\n",
       "        <td>Monitor</td>\n",
       "        <td>240</td>\n",
       "        <td>1</td>\n",
       "    </tr>\n",
       "    <tr>\n",
       "        <td>6</td>\n",
       "        <td>DVD drive</td>\n",
       "        <td>180</td>\n",
       "        <td>2</td>\n",
       "    </tr>\n",
       "    <tr>\n",
       "        <td>7</td>\n",
       "        <td>CD drive</td>\n",
       "        <td>90</td>\n",
       "        <td>2</td>\n",
       "    </tr>\n",
       "    <tr>\n",
       "        <td>8</td>\n",
       "        <td>Printer</td>\n",
       "        <td>270</td>\n",
       "        <td>3</td>\n",
       "    </tr>\n",
       "    <tr>\n",
       "        <td>10</td>\n",
       "        <td>DVD burner</td>\n",
       "        <td>180</td>\n",
       "        <td>2</td>\n",
       "    </tr>\n",
       "</table>"
      ],
      "text/plain": [
       "[(1, 'Hard drive', 240, 5),\n",
       " (3, 'ZIP drive', 150, 4),\n",
       " (5, 'Monitor', 240, 1),\n",
       " (6, 'DVD drive', 180, 2),\n",
       " (7, 'CD drive', 90, 2),\n",
       " (8, 'Printer', 270, 3),\n",
       " (10, 'DVD burner', 180, 2)]"
      ]
     },
     "execution_count": 5,
     "metadata": {},
     "output_type": "execute_result"
    }
   ],
   "source": [
    "%%sql\n",
    "select * from Products;"
   ]
  },
  {
   "cell_type": "code",
   "execution_count": 6,
   "id": "ab36f7f0",
   "metadata": {},
   "outputs": [
    {
     "name": "stdout",
     "output_type": "stream",
     "text": [
      " * sqlite://\n",
      "Done.\n"
     ]
    },
    {
     "data": {
      "text/html": [
       "<table>\n",
       "    <tr>\n",
       "        <th>Name</th>\n",
       "        <th>Price</th>\n",
       "        <th>Manufacturer</th>\n",
       "        <th>m_name</th>\n",
       "    </tr>\n",
       "    <tr>\n",
       "        <td>Hard drive</td>\n",
       "        <td>240</td>\n",
       "        <td>5</td>\n",
       "        <td>Fujitsu</td>\n",
       "    </tr>\n",
       "    <tr>\n",
       "        <td>ZIP drive</td>\n",
       "        <td>150</td>\n",
       "        <td>4</td>\n",
       "        <td>Iomega</td>\n",
       "    </tr>\n",
       "    <tr>\n",
       "        <td>Monitor</td>\n",
       "        <td>240</td>\n",
       "        <td>1</td>\n",
       "        <td>Sony</td>\n",
       "    </tr>\n",
       "    <tr>\n",
       "        <td>DVD drive</td>\n",
       "        <td>180</td>\n",
       "        <td>2</td>\n",
       "        <td>Creative Labs</td>\n",
       "    </tr>\n",
       "    <tr>\n",
       "        <td>CD drive</td>\n",
       "        <td>90</td>\n",
       "        <td>2</td>\n",
       "        <td>Creative Labs</td>\n",
       "    </tr>\n",
       "    <tr>\n",
       "        <td>Printer</td>\n",
       "        <td>270</td>\n",
       "        <td>3</td>\n",
       "        <td>Hewlett-Packard</td>\n",
       "    </tr>\n",
       "    <tr>\n",
       "        <td>DVD burner</td>\n",
       "        <td>180</td>\n",
       "        <td>2</td>\n",
       "        <td>Creative Labs</td>\n",
       "    </tr>\n",
       "</table>"
      ],
      "text/plain": [
       "[('Hard drive', 240, 5, 'Fujitsu'),\n",
       " ('ZIP drive', 150, 4, 'Iomega'),\n",
       " ('Monitor', 240, 1, 'Sony'),\n",
       " ('DVD drive', 180, 2, 'Creative Labs'),\n",
       " ('CD drive', 90, 2, 'Creative Labs'),\n",
       " ('Printer', 270, 3, 'Hewlett-Packard'),\n",
       " ('DVD burner', 180, 2, 'Creative Labs')]"
      ]
     },
     "execution_count": 6,
     "metadata": {},
     "output_type": "execute_result"
    }
   ],
   "source": [
    "%%sql\n",
    "select\n",
    "    P.Name,\n",
    "    P.Price,\n",
    "    P.Manufacturer,\n",
    "    M.Name as m_name\n",
    "    from Products as P\n",
    "    inner join Manufacturers as M\n",
    "    where P.Manufacturer = M.Code;"
   ]
  },
  {
   "cell_type": "code",
   "execution_count": 7,
   "id": "725c092a",
   "metadata": {},
   "outputs": [
    {
     "name": "stdout",
     "output_type": "stream",
     "text": [
      " * sqlite://\n",
      "Done.\n"
     ]
    },
    {
     "data": {
      "text/html": [
       "<table>\n",
       "    <tr>\n",
       "        <th>Name</th>\n",
       "        <th>Price</th>\n",
       "        <th>Manufacturer</th>\n",
       "        <th>m_name</th>\n",
       "    </tr>\n",
       "    <tr>\n",
       "        <td>Hard drive</td>\n",
       "        <td>240</td>\n",
       "        <td>5</td>\n",
       "        <td>Fujitsu</td>\n",
       "    </tr>\n",
       "    <tr>\n",
       "        <td>ZIP drive</td>\n",
       "        <td>150</td>\n",
       "        <td>4</td>\n",
       "        <td>Iomega</td>\n",
       "    </tr>\n",
       "    <tr>\n",
       "        <td>Monitor</td>\n",
       "        <td>240</td>\n",
       "        <td>1</td>\n",
       "        <td>Sony</td>\n",
       "    </tr>\n",
       "    <tr>\n",
       "        <td>DVD drive</td>\n",
       "        <td>180</td>\n",
       "        <td>2</td>\n",
       "        <td>Creative Labs</td>\n",
       "    </tr>\n",
       "    <tr>\n",
       "        <td>CD drive</td>\n",
       "        <td>90</td>\n",
       "        <td>2</td>\n",
       "        <td>Creative Labs</td>\n",
       "    </tr>\n",
       "    <tr>\n",
       "        <td>Printer</td>\n",
       "        <td>270</td>\n",
       "        <td>3</td>\n",
       "        <td>Hewlett-Packard</td>\n",
       "    </tr>\n",
       "    <tr>\n",
       "        <td>DVD burner</td>\n",
       "        <td>180</td>\n",
       "        <td>2</td>\n",
       "        <td>Creative Labs</td>\n",
       "    </tr>\n",
       "</table>"
      ],
      "text/plain": [
       "[('Hard drive', 240, 5, 'Fujitsu'),\n",
       " ('ZIP drive', 150, 4, 'Iomega'),\n",
       " ('Monitor', 240, 1, 'Sony'),\n",
       " ('DVD drive', 180, 2, 'Creative Labs'),\n",
       " ('CD drive', 90, 2, 'Creative Labs'),\n",
       " ('Printer', 270, 3, 'Hewlett-Packard'),\n",
       " ('DVD burner', 180, 2, 'Creative Labs')]"
      ]
     },
     "execution_count": 7,
     "metadata": {},
     "output_type": "execute_result"
    }
   ],
   "source": [
    "%%sql\n",
    "select\n",
    "    P.Name,\n",
    "    P.Price,\n",
    "    P.Manufacturer,\n",
    "    M.Name as m_name\n",
    "    from Products as P\n",
    "    left join Manufacturers as M\n",
    "    where P.Manufacturer = M.Code;"
   ]
  },
  {
   "cell_type": "code",
   "execution_count": 8,
   "id": "f28937ed",
   "metadata": {},
   "outputs": [
    {
     "name": "stdout",
     "output_type": "stream",
     "text": [
      " * sqlite://\n",
      "(sqlite3.OperationalError) RIGHT and FULL OUTER JOINs are not currently supported\n",
      "[SQL: select P.Name, P.Price, P.Manufacturer,\n",
      "    M.Name as m_name\n",
      "    from Products as P\n",
      "    right join Manufacturers as M\n",
      "    where P.Manufacturer = M.Code;]\n",
      "(Background on this error at: http://sqlalche.me/e/14/e3q8)\n"
     ]
    }
   ],
   "source": [
    "%%sql\n",
    "select\n",
    "    P.Name,\n",
    "    P.Price,\n",
    "    P.Manufacturer,\n",
    "    M.Name as m_name\n",
    "    from Products as P\n",
    "    right join Manufacturers as M\n",
    "    where P.Manufacturer = M.Code;"
   ]
  },
  {
   "cell_type": "code",
   "execution_count": 5,
   "id": "3a916732",
   "metadata": {},
   "outputs": [
    {
     "ename": "SyntaxError",
     "evalue": "invalid syntax (<ipython-input-5-b2d2c500c4ed>, line 1)",
     "output_type": "error",
     "traceback": [
      "\u001b[0;36m  File \u001b[0;32m\"<ipython-input-5-b2d2c500c4ed>\"\u001b[0;36m, line \u001b[0;32m1\u001b[0m\n\u001b[0;31m    -- 1.1 Select the names of all the products in the store.\u001b[0m\n\u001b[0m           ^\u001b[0m\n\u001b[0;31mSyntaxError\u001b[0m\u001b[0;31m:\u001b[0m invalid syntax\n"
     ]
    }
   ],
   "source": [
    "-- 1.1 Select the names of all the products in the store.\n",
    "-- 1.2 Select the names and the prices of all the products in the store.\n",
    "-- 1.3 Select the name of the products with a price less than or equal to $200.\n",
    "-- 1.4 Select all the products with a price between $60 and $120.\n",
    "-- 1.5 Select the name and price in cents (i.e., the price must be multiplied by 100).\n",
    "-- 1.6 Compute the average price of all the products.\n",
    "-- 1.7 Compute the average price of all products with manufacturer code equal to 2.\n",
    "-- 1.8 Compute the number of products with a price larger than or equal to $180.\n",
    "-- 1.9 Select the name and price of all products with a price larger than or equal to $180, and sort first by price (in descending order), and then by name (in ascending order).\n",
    "-- 1.10 Select all the data from the products, including all the data for each product's manufacturer.\n",
    "-- 1.11 Select the product name, price, and manufacturer name of all the products.\n",
    "-- 1.12 Select the average price of each manufacturer's products, showing only the manufacturer's code.\n",
    "-- 1.13 Select the average price of each manufacturer's products, showing the manufacturer's name.\n",
    "-- 1.14 Select the names of manufacturer whose products have an average price larger than or equal to $150.\n",
    "-- 1.15 Select the name and price of the cheapest product.\n",
    "-- 1.16 Select the name of each manufacturer along with the name and price of its most expensive product.\n",
    "-- 1.17 Add a new product: Loudspeakers, $70, manufacturer 2.\n",
    "-- 1.18 Update the name of product 8 to \"Laser Printer\".\n",
    "-- 1.19 Apply a 10% discount to all products.\n",
    "-- 1.20 Apply a 10% discount to all products with a price larger than or equal to $120."
   ]
  },
  {
   "cell_type": "code",
   "execution_count": 14,
   "id": "bb7a1142",
   "metadata": {},
   "outputs": [
    {
     "name": "stdout",
     "output_type": "stream",
     "text": [
      " * sqlite://\n",
      "Done.\n"
     ]
    },
    {
     "data": {
      "text/html": [
       "<table>\n",
       "    <tr>\n",
       "        <th>Name</th>\n",
       "    </tr>\n",
       "    <tr>\n",
       "        <td>Hard drive</td>\n",
       "    </tr>\n",
       "    <tr>\n",
       "        <td>Memory</td>\n",
       "    </tr>\n",
       "    <tr>\n",
       "        <td>ZIP drive</td>\n",
       "    </tr>\n",
       "    <tr>\n",
       "        <td>Floppy disk</td>\n",
       "    </tr>\n",
       "    <tr>\n",
       "        <td>Monitor</td>\n",
       "    </tr>\n",
       "    <tr>\n",
       "        <td>DVD drive</td>\n",
       "    </tr>\n",
       "    <tr>\n",
       "        <td>CD drive</td>\n",
       "    </tr>\n",
       "    <tr>\n",
       "        <td>Printer</td>\n",
       "    </tr>\n",
       "    <tr>\n",
       "        <td>Toner cartridge</td>\n",
       "    </tr>\n",
       "    <tr>\n",
       "        <td>DVD burner</td>\n",
       "    </tr>\n",
       "</table>"
      ],
      "text/plain": [
       "[('Hard drive',),\n",
       " ('Memory',),\n",
       " ('ZIP drive',),\n",
       " ('Floppy disk',),\n",
       " ('Monitor',),\n",
       " ('DVD drive',),\n",
       " ('CD drive',),\n",
       " ('Printer',),\n",
       " ('Toner cartridge',),\n",
       " ('DVD burner',)]"
      ]
     },
     "execution_count": 14,
     "metadata": {},
     "output_type": "execute_result"
    }
   ],
   "source": [
    "%%sql\n",
    "select name from Products;"
   ]
  },
  {
   "cell_type": "code",
   "execution_count": 16,
   "id": "f90c662e",
   "metadata": {},
   "outputs": [
    {
     "name": "stdout",
     "output_type": "stream",
     "text": [
      " * sqlite://\n",
      "Done.\n"
     ]
    },
    {
     "data": {
      "text/html": [
       "<table>\n",
       "    <tr>\n",
       "        <th>Name</th>\n",
       "        <th>Price</th>\n",
       "    </tr>\n",
       "    <tr>\n",
       "        <td>Hard drive</td>\n",
       "        <td>240</td>\n",
       "    </tr>\n",
       "    <tr>\n",
       "        <td>Memory</td>\n",
       "        <td>120</td>\n",
       "    </tr>\n",
       "    <tr>\n",
       "        <td>ZIP drive</td>\n",
       "        <td>150</td>\n",
       "    </tr>\n",
       "    <tr>\n",
       "        <td>Floppy disk</td>\n",
       "        <td>5</td>\n",
       "    </tr>\n",
       "    <tr>\n",
       "        <td>Monitor</td>\n",
       "        <td>240</td>\n",
       "    </tr>\n",
       "    <tr>\n",
       "        <td>DVD drive</td>\n",
       "        <td>180</td>\n",
       "    </tr>\n",
       "    <tr>\n",
       "        <td>CD drive</td>\n",
       "        <td>90</td>\n",
       "    </tr>\n",
       "    <tr>\n",
       "        <td>Printer</td>\n",
       "        <td>270</td>\n",
       "    </tr>\n",
       "    <tr>\n",
       "        <td>Toner cartridge</td>\n",
       "        <td>66</td>\n",
       "    </tr>\n",
       "    <tr>\n",
       "        <td>DVD burner</td>\n",
       "        <td>180</td>\n",
       "    </tr>\n",
       "</table>"
      ],
      "text/plain": [
       "[('Hard drive', 240),\n",
       " ('Memory', 120),\n",
       " ('ZIP drive', 150),\n",
       " ('Floppy disk', 5),\n",
       " ('Monitor', 240),\n",
       " ('DVD drive', 180),\n",
       " ('CD drive', 90),\n",
       " ('Printer', 270),\n",
       " ('Toner cartridge', 66),\n",
       " ('DVD burner', 180)]"
      ]
     },
     "execution_count": 16,
     "metadata": {},
     "output_type": "execute_result"
    }
   ],
   "source": [
    "%%sql\n",
    "select name ,price from Products;"
   ]
  },
  {
   "cell_type": "code",
   "execution_count": 19,
   "id": "c1c09d7b",
   "metadata": {
    "scrolled": true
   },
   "outputs": [
    {
     "name": "stdout",
     "output_type": "stream",
     "text": [
      " * sqlite://\n",
      "Done.\n"
     ]
    },
    {
     "data": {
      "text/plain": [
       "[]"
      ]
     },
     "execution_count": 19,
     "metadata": {},
     "output_type": "execute_result"
    }
   ],
   "source": [
    "%%sql\n",
    "CREATE TABLE Products2 (\n",
    "  Code INTEGER,\n",
    "  Name VARCHAR(255) NOT NULL ,\n",
    "  Price DECIMAL ,\n",
    "  Manufacturer INTEGER,\n",
    "  PRIMARY KEY (Code), \n",
    "  FOREIGN KEY (Manufacturer) REFERENCES Manufacturers(Code)\n",
    ");"
   ]
  },
  {
   "cell_type": "code",
   "execution_count": 24,
   "id": "f64dc8cc",
   "metadata": {
    "scrolled": true
   },
   "outputs": [
    {
     "name": "stdout",
     "output_type": "stream",
     "text": [
      " * sqlite://\n",
      "1 rows affected.\n"
     ]
    },
    {
     "data": {
      "text/plain": [
       "[]"
      ]
     },
     "execution_count": 24,
     "metadata": {},
     "output_type": "execute_result"
    }
   ],
   "source": [
    "%%sql\n",
    "INSERT INTO Products2(Code,Name) VALUES(2,'Hard drive2');\n"
   ]
  },
  {
   "cell_type": "code",
   "execution_count": 37,
   "id": "10433342",
   "metadata": {},
   "outputs": [
    {
     "name": "stdout",
     "output_type": "stream",
     "text": [
      " * sqlite://\n",
      "Done.\n"
     ]
    },
    {
     "data": {
      "text/html": [
       "<table>\n",
       "    <tr>\n",
       "        <th>Code</th>\n",
       "        <th>Name</th>\n",
       "        <th>Price</th>\n",
       "        <th>Manufacturer</th>\n",
       "    </tr>\n",
       "    <tr>\n",
       "        <td>1</td>\n",
       "        <td>Hard drive</td>\n",
       "        <td>194.4</td>\n",
       "        <td>5</td>\n",
       "    </tr>\n",
       "    <tr>\n",
       "        <td>2</td>\n",
       "        <td>Memory</td>\n",
       "        <td>97.2</td>\n",
       "        <td>6</td>\n",
       "    </tr>\n",
       "    <tr>\n",
       "        <td>3</td>\n",
       "        <td>ZIP drive</td>\n",
       "        <td>121.5</td>\n",
       "        <td>4</td>\n",
       "    </tr>\n",
       "    <tr>\n",
       "        <td>4</td>\n",
       "        <td>Floppy disk</td>\n",
       "        <td>4.05</td>\n",
       "        <td>6</td>\n",
       "    </tr>\n",
       "    <tr>\n",
       "        <td>5</td>\n",
       "        <td>Monitor</td>\n",
       "        <td>194.4</td>\n",
       "        <td>1</td>\n",
       "    </tr>\n",
       "    <tr>\n",
       "        <td>6</td>\n",
       "        <td>DVD drive</td>\n",
       "        <td>145.8</td>\n",
       "        <td>2</td>\n",
       "    </tr>\n",
       "    <tr>\n",
       "        <td>7</td>\n",
       "        <td>CD drive</td>\n",
       "        <td>72.9</td>\n",
       "        <td>2</td>\n",
       "    </tr>\n",
       "    <tr>\n",
       "        <td>8</td>\n",
       "        <td>Laser Printer</td>\n",
       "        <td>218.70000000000002</td>\n",
       "        <td>3</td>\n",
       "    </tr>\n",
       "    <tr>\n",
       "        <td>9</td>\n",
       "        <td>Toner cartridge</td>\n",
       "        <td>53.46</td>\n",
       "        <td>3</td>\n",
       "    </tr>\n",
       "    <tr>\n",
       "        <td>10</td>\n",
       "        <td>DVD burner</td>\n",
       "        <td>145.8</td>\n",
       "        <td>2</td>\n",
       "    </tr>\n",
       "    <tr>\n",
       "        <td>11</td>\n",
       "        <td>Loudspeakers</td>\n",
       "        <td>56.7</td>\n",
       "        <td>2</td>\n",
       "    </tr>\n",
       "</table>"
      ],
      "text/plain": [
       "[(1, 'Hard drive', 194.4, 5),\n",
       " (2, 'Memory', 97.2, 6),\n",
       " (3, 'ZIP drive', 121.5, 4),\n",
       " (4, 'Floppy disk', 4.05, 6),\n",
       " (5, 'Monitor', 194.4, 1),\n",
       " (6, 'DVD drive', 145.8, 2),\n",
       " (7, 'CD drive', 72.9, 2),\n",
       " (8, 'Laser Printer', 218.70000000000002, 3),\n",
       " (9, 'Toner cartridge', 53.46, 3),\n",
       " (10, 'DVD burner', 145.8, 2),\n",
       " (11, 'Loudspeakers', 56.7, 2)]"
      ]
     },
     "execution_count": 37,
     "metadata": {},
     "output_type": "execute_result"
    }
   ],
   "source": [
    "%%sql\n",
    "select * from Products;"
   ]
  },
  {
   "cell_type": "code",
   "execution_count": 33,
   "id": "7bbfa66e",
   "metadata": {},
   "outputs": [
    {
     "name": "stdout",
     "output_type": "stream",
     "text": [
      " * sqlite://\n",
      "Done.\n"
     ]
    },
    {
     "data": {
      "text/html": [
       "<table>\n",
       "    <tr>\n",
       "        <th>Code</th>\n",
       "        <th>Name</th>\n",
       "        <th>Price</th>\n",
       "        <th>Manufacturer</th>\n",
       "    </tr>\n",
       "    <tr>\n",
       "        <td>1</td>\n",
       "        <td>Hard drive</td>\n",
       "        <td>240</td>\n",
       "        <td>5</td>\n",
       "    </tr>\n",
       "    <tr>\n",
       "        <td>2</td>\n",
       "        <td>Memory</td>\n",
       "        <td>120</td>\n",
       "        <td>6</td>\n",
       "    </tr>\n",
       "    <tr>\n",
       "        <td>3</td>\n",
       "        <td>ZIP drive</td>\n",
       "        <td>150</td>\n",
       "        <td>4</td>\n",
       "    </tr>\n",
       "    <tr>\n",
       "        <td>4</td>\n",
       "        <td>Floppy disk</td>\n",
       "        <td>5</td>\n",
       "        <td>6</td>\n",
       "    </tr>\n",
       "    <tr>\n",
       "        <td>5</td>\n",
       "        <td>Monitor</td>\n",
       "        <td>240</td>\n",
       "        <td>1</td>\n",
       "    </tr>\n",
       "    <tr>\n",
       "        <td>6</td>\n",
       "        <td>DVD drive</td>\n",
       "        <td>180</td>\n",
       "        <td>2</td>\n",
       "    </tr>\n",
       "    <tr>\n",
       "        <td>7</td>\n",
       "        <td>CD drive</td>\n",
       "        <td>90</td>\n",
       "        <td>2</td>\n",
       "    </tr>\n",
       "    <tr>\n",
       "        <td>8</td>\n",
       "        <td>Laser Printer</td>\n",
       "        <td>270</td>\n",
       "        <td>3</td>\n",
       "    </tr>\n",
       "    <tr>\n",
       "        <td>9</td>\n",
       "        <td>Toner cartridge</td>\n",
       "        <td>66</td>\n",
       "        <td>3</td>\n",
       "    </tr>\n",
       "    <tr>\n",
       "        <td>10</td>\n",
       "        <td>DVD burner</td>\n",
       "        <td>180</td>\n",
       "        <td>2</td>\n",
       "    </tr>\n",
       "    <tr>\n",
       "        <td>11</td>\n",
       "        <td>Loudspeakers</td>\n",
       "        <td>70</td>\n",
       "        <td>2</td>\n",
       "    </tr>\n",
       "</table>"
      ],
      "text/plain": [
       "[(1, 'Hard drive', 240, 5),\n",
       " (2, 'Memory', 120, 6),\n",
       " (3, 'ZIP drive', 150, 4),\n",
       " (4, 'Floppy disk', 5, 6),\n",
       " (5, 'Monitor', 240, 1),\n",
       " (6, 'DVD drive', 180, 2),\n",
       " (7, 'CD drive', 90, 2),\n",
       " (8, 'Laser Printer', 270, 3),\n",
       " (9, 'Toner cartridge', 66, 3),\n",
       " (10, 'DVD burner', 180, 2),\n",
       " (11, 'Loudspeakers', 70, 2)]"
      ]
     },
     "execution_count": 33,
     "metadata": {},
     "output_type": "execute_result"
    }
   ],
   "source": [
    "%%sql\n",
    "select * from Products;"
   ]
  },
  {
   "cell_type": "code",
   "execution_count": 36,
   "id": "5ad7cb33",
   "metadata": {},
   "outputs": [
    {
     "name": "stdout",
     "output_type": "stream",
     "text": [
      " * sqlite://\n",
      "11 rows affected.\n"
     ]
    },
    {
     "data": {
      "text/plain": [
       "[]"
      ]
     },
     "execution_count": 36,
     "metadata": {},
     "output_type": "execute_result"
    }
   ],
   "source": [
    "%%sql\n",
    "update products\n",
    "set price=price*0.9;"
   ]
  },
  {
   "cell_type": "code",
   "execution_count": null,
   "id": "df2e5555",
   "metadata": {},
   "outputs": [],
   "source": []
  },
  {
   "cell_type": "code",
   "execution_count": null,
   "id": "77ee3f65",
   "metadata": {},
   "outputs": [],
   "source": []
  },
  {
   "cell_type": "code",
   "execution_count": null,
   "id": "0e108f27",
   "metadata": {},
   "outputs": [],
   "source": []
  },
  {
   "cell_type": "code",
   "execution_count": null,
   "id": "57e9a4f3",
   "metadata": {},
   "outputs": [],
   "source": []
  },
  {
   "cell_type": "code",
   "execution_count": null,
   "id": "b93c40b8",
   "metadata": {},
   "outputs": [],
   "source": [
    "-- 1.17 Add a new product: Loudspeakers, $70, manufacturer 2.\n",
    "insert into Products values (11, 'Loudspeakers', 70, 2);\n",
    "\n",
    "\n",
    "-- 1.18 Update the name of product 8 to \"Laser Printer\".\n",
    "update products\n",
    "set name = 'Laser Printer'\n",
    "where code=8;\n",
    "\n",
    "-- 1.19 Apply a 10% discount to all products.\n",
    "update products\n",
    "set price=price*0.9;\n",
    "\n",
    "\n",
    "-- 1.20 Apply a 10% discount to all products with a price larger than or equal to $120.\n",
    "update products\n",
    "set price = price * 0.9\n",
    "where price >= 120; \n"
   ]
  }
 ],
 "metadata": {
  "kernelspec": {
   "display_name": "Python 3",
   "language": "python",
   "name": "python3"
  },
  "language_info": {
   "codemirror_mode": {
    "name": "ipython",
    "version": 3
   },
   "file_extension": ".py",
   "mimetype": "text/x-python",
   "name": "python",
   "nbconvert_exporter": "python",
   "pygments_lexer": "ipython3",
   "version": "3.8.2"
  }
 },
 "nbformat": 4,
 "nbformat_minor": 5
}
