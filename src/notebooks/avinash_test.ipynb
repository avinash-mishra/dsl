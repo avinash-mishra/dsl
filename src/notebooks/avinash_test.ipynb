{
 "cells": [
  {
   "cell_type": "code",
   "execution_count": 2,
   "id": "3389bdf8",
   "metadata": {},
   "outputs": [
    {
     "name": "stdout",
     "output_type": "stream",
     "text": [
      "sharu\n"
     ]
    }
   ],
   "source": [
    "print('sharu')"
   ]
  },
  {
   "cell_type": "code",
   "execution_count": 7,
   "id": "18569422",
   "metadata": {},
   "outputs": [
    {
     "name": "stdout",
     "output_type": "stream",
     "text": [
      "20\n"
     ]
    }
   ],
   "source": [
    "weight = 20\n",
    "print(weight)"
   ]
  },
  {
   "cell_type": "code",
   "execution_count": 4,
   "id": "6e9b1461",
   "metadata": {},
   "outputs": [],
   "source": [
    "living_address_in_japan = \"fujimi, 1-6-11\""
   ]
  },
  {
   "cell_type": "code",
   "execution_count": 5,
   "id": "dca12076",
   "metadata": {},
   "outputs": [
    {
     "name": "stdout",
     "output_type": "stream",
     "text": [
      "fujimi, 1-6-11\n"
     ]
    }
   ],
   "source": [
    "print(living_address_in_japan)"
   ]
  },
  {
   "cell_type": "code",
   "execution_count": null,
   "id": "651616a6",
   "metadata": {},
   "outputs": [],
   "source": []
  }
 ],
 "metadata": {
  "kernelspec": {
   "display_name": "Python 3",
   "language": "python",
   "name": "python3"
  },
  "language_info": {
   "codemirror_mode": {
    "name": "ipython",
    "version": 3
   },
   "file_extension": ".py",
   "mimetype": "text/x-python",
   "name": "python",
   "nbconvert_exporter": "python",
   "pygments_lexer": "ipython3",
   "version": "3.8.2"
  }
 },
 "nbformat": 4,
 "nbformat_minor": 5
}
